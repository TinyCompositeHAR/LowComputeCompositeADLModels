{
 "cells": [
  {
   "metadata": {},
   "cell_type": "code",
   "outputs": [],
   "execution_count": null,
   "source": [
    "import os\n",
    "import numpy as np\n",
    "import pandas as pd\n",
    "from sklearn.preprocessing import StandardScaler"
   ],
   "id": "ff91cecbce5ae95f"
  },
  {
   "metadata": {},
   "cell_type": "code",
   "outputs": [],
   "execution_count": null,
   "source": [
    "def read_files(base_dir):\n",
    "    all_data = []\n",
    "    for subject_folder in os.listdir(base_dir):\n",
    "        subject_path = os.path.join(base_dir, subject_folder)\n",
    "        if os.path.isdir(subject_path):\n",
    "            subject_number = int(subject_folder.split(\"_\")[-1])\n",
    "            for csv_file in os.listdir(subject_path):\n",
    "                if csv_file.endswith(\"arm_r.csv\"):\n",
    "                    file_path = os.path.join(subject_path, csv_file)\n",
    "                    df = pd.read_csv(file_path)\n",
    "                    df[\"subject\"] = subject_number\n",
    "                    df[\"body_part\"] = csv_file.split(\".\")[0]\n",
    "                    all_data.append(df)\n",
    "    return pd.concat(all_data, ignore_index=True)"
   ],
   "id": "bef9f0d71d8eb6a0"
  },
  {
   "metadata": {},
   "cell_type": "code",
   "outputs": [],
   "execution_count": null,
   "source": [
    "def normalize_features(data):\n",
    "    scaler = StandardScaler()\n",
    "    columns_to_normalize = [\"ax\", \"ay\", \"az\", \"wx\", \"wy\", \"wz\", \"ex\", \"ey\", \"ez\"]\n",
    "    data[columns_to_normalize] = scaler.fit_transform(data[columns_to_normalize])\n",
    "    return data\n",
    "\n",
    "def encode_labels(data):\n",
    "    label_encoding = {\n",
    "        \"fall\": 0, \"run\": 1, \"walk\": 2, \"cycle\": 3, \"lay\": 4, \"squat\": 5, \"mop\": 6, \"drink\": 7, \"sweep\": 8,\n",
    "        \"brushing_teeth\": 9, \"cut\": 10, \"eat\": 11, \"folding_clothes\": 12, \"hang_out_clothes\": 13, \"ironing\": 14,\n",
    "        \"open_door\": 15, \"open_fridge\": 16, \"sit\": 17, \"stand\": 18, \"use_computer\": 19, \"wash_dish\": 20,\n",
    "        \"wash_face\": 21, \"wash_window\": 22, \"watch_tv\": 23, \"watering_flowers\": 24, \"write\": 25, \"wc\": 26,\n",
    "        \"play_phone\": 27, \"switch\": 28\n",
    "    }\n",
    "    data[\"encoded_label\"] = data[\"label\"].map(label_encoding)\n",
    "    return data"
   ],
   "id": "971e766f58f5dd51"
  },
  {
   "metadata": {},
   "cell_type": "code",
   "outputs": [],
   "execution_count": null,
   "source": [
    "def apply_sliding_window(data, window_size=100, step_size=50):\n",
    "    windows = []\n",
    "    labels = []\n",
    "    for subject in data[\"subject\"].unique():\n",
    "        subject_data = data[data[\"subject\"] == subject].sort_values(\"time\")\n",
    "        for i in range(0, len(subject_data) - window_size + 1, step_size):\n",
    "            window = subject_data.iloc[i:i + window_size]\n",
    "            windows.append(window[[\"ax\", \"ay\", \"az\", \"wx\", \"wy\", \"wz\", \"ex\", \"ey\", \"ez\"]].values.flatten())\n",
    "            labels.append(window[\"encoded_label\"].mode().values[0])  # Most common label in the window\n",
    "    return np.array(windows), np.array(labels)\n"
   ],
   "id": "e3e29ef8f57fb686"
  },
  {
   "metadata": {},
   "cell_type": "code",
   "outputs": [],
   "execution_count": null,
   "source": [
    "def prepare_datasets(data):\n",
    "    subjects = sorted(data[\"subject\"].unique())\n",
    "    train_subjects = subjects[:25]\n",
    "    test_subjects = subjects[25:]\n",
    "\n",
    "    train_data = data[data[\"subject\"].isin(train_subjects)]\n",
    "    test_data = data[data[\"subject\"].isin(test_subjects)]\n",
    "\n",
    "    X_train, y_train = apply_sliding_window(train_data)\n",
    "    X_test, y_test = apply_sliding_window(test_data)\n",
    "\n",
    "    return X_train, y_train, X_test, y_test"
   ],
   "id": "abeedb42c4af810a"
  },
  {
   "metadata": {},
   "cell_type": "code",
   "outputs": [],
   "execution_count": null,
   "source": [
    "def save_datasets(X_train, y_train, X_test, y_test):\n",
    "    np.savetxt(\"../Datasets/CAPP Dataset/data/SubjectIndependent50PercentOverlap/X_train.txt\", X_train)\n",
    "    np.savetxt(\"../Datasets/CAPP Dataset/data/SubjectIndependent50PercentOverlap/y_train.txt\", y_train, fmt=\"%d\")\n",
    "    np.savetxt(\"../Datasets/CAPP Dataset/data/SubjectIndependent50PercentOverlap/X_test.txt\", X_test)\n",
    "    np.savetxt(\"../Datasets/CAPP Dataset/data/SubjectIndependent50PercentOverlap/y_test.txt\", y_test, fmt=\"%d\")"
   ],
   "id": "284882abe70ba30"
  },
  {
   "metadata": {
    "collapsed": true
   },
   "cell_type": "code",
   "outputs": [],
   "execution_count": null,
   "source": [
    "\n",
    "def worker(base_dir):\n",
    "    # Read and combine all data\n",
    "    data = read_files(base_dir)\n",
    "\n",
    "    # Normalize features\n",
    "    data = normalize_features(data)\n",
    "\n",
    "    # Encode labels\n",
    "    data = encode_labels(data)\n",
    "\n",
    "    # Prepare datasets\n",
    "    X_train, y_train, X_test, y_test = prepare_datasets(data)\n",
    "\n",
    "    # Save datasets\n",
    "    save_datasets(X_train, y_train, X_test, y_test)\n",
    "\n",
    "    print(\"DatasetPreprocessing completed. Datasets saved as txt files.\")\n",
    "\n",
    "\n",
    "base_dir = \"../Datasets/CAPP Dataset/data\"\n",
    "worker(base_dir)"
   ],
   "id": "initial_id"
  }
 ],
 "metadata": {
  "kernelspec": {
   "display_name": "Python 3",
   "language": "python",
   "name": "python3"
  },
  "language_info": {
   "codemirror_mode": {
    "name": "ipython",
    "version": 2
   },
   "file_extension": ".py",
   "mimetype": "text/x-python",
   "name": "python",
   "nbconvert_exporter": "python",
   "pygments_lexer": "ipython2",
   "version": "2.7.6"
  }
 },
 "nbformat": 4,
 "nbformat_minor": 5
}
