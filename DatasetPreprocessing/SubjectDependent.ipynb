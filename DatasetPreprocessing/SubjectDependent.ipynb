{
 "cells": [
  {
   "cell_type": "code",
   "id": "initial_id",
   "metadata": {
    "collapsed": true,
    "ExecuteTime": {
     "end_time": "2024-09-27T04:14:25.077127Z",
     "start_time": "2024-09-27T04:12:55.364700Z"
    }
   },
   "source": [
    "import os\n",
    "import numpy as np\n",
    "import pandas as pd\n",
    "from sklearn.preprocessing import StandardScaler\n",
    "from sklearn.model_selection import train_test_split\n",
    "\n",
    "def read_files(base_dir):\n",
    "    all_data = []\n",
    "    for subject_folder in os.listdir(base_dir):\n",
    "        subject_path = os.path.join(base_dir, subject_folder)\n",
    "        if os.path.isdir(subject_path):\n",
    "            subject_number = int(subject_folder.split(\"_\")[-1])\n",
    "            for csv_file in os.listdir(subject_path):\n",
    "                if csv_file.endswith(\"arm_r.csv\"):\n",
    "                    file_path = os.path.join(subject_path, csv_file)\n",
    "                    df = pd.read_csv(file_path)\n",
    "                    df[\"subject\"] = subject_number\n",
    "                    df[\"body_part\"] = csv_file.split(\".\")[0]\n",
    "                    all_data.append(df)\n",
    "    return pd.concat(all_data, ignore_index=True)\n",
    "\n",
    "def normalize_features(data):\n",
    "    scaler = StandardScaler()\n",
    "    columns_to_normalize = [\"ax\", \"ay\", \"az\", \"wx\", \"wy\", \"wz\", \"ex\", \"ey\", \"ez\"]\n",
    "    data[columns_to_normalize] = scaler.fit_transform(data[columns_to_normalize])\n",
    "    return data\n",
    "\n",
    "def encode_labels(data):\n",
    "    label_encoding = {\n",
    "        \"fall\": 0, \"run\": 1, \"walk\": 2, \"cycle\": 3, \"lay\": 4, \"squat\": 5, \"mop\": 6, \"drink\": 7, \"sweep\": 8,\n",
    "        \"brushing_teeth\": 9, \"cut\": 10, \"eat\": 11, \"folding_clothes\": 12, \"hang_out_clothes\": 13, \"ironing\": 14,\n",
    "        \"open_door\": 15, \"open_fridge\": 16, \"sit\": 17, \"stand\": 18, \"use_computer\": 19, \"wash_dish\": 20,\n",
    "        \"wash_face\": 21, \"wash_window\": 22, \"watch_tv\": 23, \"watering_flowers\": 24, \"write\": 25, \"wc\": 26,\n",
    "        \"play_phone\": 27, \"switch\": 28\n",
    "    }\n",
    "    data[\"encoded_label\"] = data[\"label\"].map(label_encoding)\n",
    "    return data\n",
    "\n",
    "def apply_sliding_window(data, window_size=100, step_size=50):\n",
    "    windows = []\n",
    "    labels = []\n",
    "    for i in range(0, len(data) - window_size + 1, step_size):\n",
    "        window = data.iloc[i:i + window_size]\n",
    "        windows.append(window[[\"ax\", \"ay\", \"az\", \"wx\", \"wy\", \"wz\", \"ex\", \"ey\", \"ez\"]].values.flatten())\n",
    "        labels.append(window[\"encoded_label\"].mode().values[0])  # Most common label in the window\n",
    "    return np.array(windows), np.array(labels)\n",
    "\n",
    "def prepare_subject_dependent_datasets(data, test_size=0.2, random_state=42):\n",
    "    X_train_all, y_train_all, X_test_all, y_test_all = [], [], [], []\n",
    "    \n",
    "    for subject in data[\"subject\"].unique():\n",
    "        subject_data = data[data[\"subject\"] == subject].sort_values(\"time\")\n",
    "        X, y = apply_sliding_window(subject_data)\n",
    "        \n",
    "        X_train, X_test, y_train, y_test = train_test_split(X, y, test_size=test_size, random_state=random_state)\n",
    "        \n",
    "        X_train_all.append(X_train)\n",
    "        y_train_all.append(y_train)\n",
    "        X_test_all.append(X_test)\n",
    "        y_test_all.append(y_test)\n",
    "    \n",
    "    return (np.vstack(X_train_all), np.concatenate(y_train_all),\n",
    "            np.vstack(X_test_all), np.concatenate(y_test_all))\n",
    "\n",
    "def save_datasets(X_train, y_train, X_test, y_test):\n",
    "    np.savetxt(\"../Datasets/CAPP Dataset/SubjectDependent50PercentOverlap/X_train.txt\", X_train)\n",
    "    np.savetxt(\"../Datasets/CAPP Dataset/SubjectDependent50PercentOverlap/y_train.txt\", y_train, fmt=\"%d\")\n",
    "    np.savetxt(\"../Datasets/CAPP Dataset/SubjectDependent50PercentOverlap/X_test.txt\", X_test)\n",
    "    np.savetxt(\"../Datasets/CAPP Dataset/SubjectDependent50PercentOverlap/y_test.txt\", y_test, fmt=\"%d\")\n",
    "\n",
    "def worker(base_dir):\n",
    "    # Read and combine all data\n",
    "    data = read_files(base_dir)\n",
    "    \n",
    "    # Normalize features\n",
    "    data = normalize_features(data)\n",
    "    \n",
    "    # Encode labels\n",
    "    data = encode_labels(data)\n",
    "    \n",
    "    # Prepare datasets (subject-dependent)\n",
    "    X_train, y_train, X_test, y_test = prepare_subject_dependent_datasets(data)\n",
    "    \n",
    "    # Save datasets\n",
    "    save_datasets(X_train, y_train, X_test, y_test)\n",
    "    print(\"Subject-dependent data preprocessing completed. Datasets saved as txt files.\")\n",
    "\n",
    "base_dir = \"../Datasets/CAPP Dataset/data\"\n",
    "worker(base_dir)"
   ],
   "outputs": [
    {
     "name": "stdout",
     "output_type": "stream",
     "text": [
      "Subject-dependent data preprocessing completed. Datasets saved as txt files.\n"
     ]
    }
   ],
   "execution_count": 1
  },
  {
   "metadata": {},
   "cell_type": "code",
   "outputs": [],
   "execution_count": null,
   "source": "",
   "id": "9927bc5c787a5cef"
  }
 ],
 "metadata": {
  "kernelspec": {
   "display_name": "Python 3",
   "language": "python",
   "name": "python3"
  },
  "language_info": {
   "codemirror_mode": {
    "name": "ipython",
    "version": 2
   },
   "file_extension": ".py",
   "mimetype": "text/x-python",
   "name": "python",
   "nbconvert_exporter": "python",
   "pygments_lexer": "ipython2",
   "version": "2.7.6"
  }
 },
 "nbformat": 4,
 "nbformat_minor": 5
}
