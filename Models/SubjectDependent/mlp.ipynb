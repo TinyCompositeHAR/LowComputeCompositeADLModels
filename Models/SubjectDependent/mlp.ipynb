{
 "cells": [
  {
   "metadata": {
    "ExecuteTime": {
     "end_time": "2024-09-27T10:25:28.218666Z",
     "start_time": "2024-09-27T10:24:20.504887Z"
    }
   },
   "cell_type": "code",
   "source": [
    "import numpy as np\n",
    "import tensorflow as tf\n",
    "from sklearn.model_selection import train_test_split\n",
    "from sklearn.preprocessing import StandardScaler\n",
    "from sklearn.metrics import classification_report\n",
    "from tensorflow.keras.utils import to_categorical\n",
    "\n",
    "# Load and preprocess the dataset\n",
    "def load_and_preprocess_data():\n",
    "    # Load data\n",
    "    X_train = np.loadtxt(\"../../Datasets/CAPP Dataset/SubjectDependent50PercentOverlap/X_train.txt\")\n",
    "    y_train = np.loadtxt(\"../../Datasets/CAPP Dataset/SubjectDependent50PercentOverlap/y_train.txt\")\n",
    "    X_test = np.loadtxt(\"../../Datasets/CAPP Dataset/SubjectDependent50PercentOverlap/X_test.txt\")\n",
    "    y_test = np.loadtxt(\"../../Datasets/CAPP Dataset/SubjectDependent50PercentOverlap/y_test.txt\")\n",
    "\n",
    "    # Reshape data (assuming 100 time steps and 9 features)\n",
    "    X_train = X_train.reshape(X_train.shape[0], 100, 9)\n",
    "    X_test = X_test.reshape(X_test.shape[0], 100, 9)\n",
    "\n",
    "    # Normalize features\n",
    "    scaler = StandardScaler()\n",
    "    X_train_reshaped = X_train.reshape(-1, X_train.shape[-1])\n",
    "    X_test_reshaped = X_test.reshape(-1, X_test.shape[-1])\n",
    "    X_train_scaled = scaler.fit_transform(X_train_reshaped).reshape(X_train.shape)\n",
    "    X_test_scaled = scaler.transform(X_test_reshaped).reshape(X_test.shape)\n",
    "\n",
    "    # Manually flatten the input data\n",
    "    X_train_flattened = X_train_scaled.reshape(X_train_scaled.shape[0], -1)  # (samples, 900)\n",
    "    X_test_flattened = X_test_scaled.reshape(X_test_scaled.shape[0], -1)     # (samples, 900)\n",
    "\n",
    "    # Find the actual number of unique classes\n",
    "    all_labels = np.unique(np.concatenate((y_train, y_test)))\n",
    "    num_classes = len(all_labels)\n",
    "    print(f\"Unique labels: {all_labels}\")\n",
    "    print(f\"Number of classes: {num_classes}\")\n",
    "\n",
    "    # Create a mapping from original labels to consecutive integers\n",
    "    label_map = {label: i for i, label in enumerate(all_labels)}\n",
    "\n",
    "    # Apply the mapping to y_train and y_test\n",
    "    y_train_mapped = np.array([label_map[label] for label in y_train])\n",
    "    y_test_mapped = np.array([label_map[label] for label in y_test])\n",
    "\n",
    "    # One-hot encode the mapped labels\n",
    "    y_train_onehot = to_categorical(y_train_mapped, num_classes=num_classes)\n",
    "    y_test_onehot = to_categorical(y_test_mapped, num_classes=num_classes)\n",
    "\n",
    "    print(f\"One-hot encoded label shape: {y_train_onehot.shape[1]}\")\n",
    "\n",
    "    return X_train_flattened, y_train_onehot, X_test_flattened, y_test_onehot, num_classes, label_map\n",
    "\n",
    "# Create a simple MLP model for TFLite Micro\n",
    "def create_mlp_model(input_shape, num_classes):\n",
    "    model = tf.keras.Sequential([\n",
    "        tf.keras.layers.Dense(128, activation='relu', input_shape=input_shape),\n",
    "        tf.keras.layers.Dense(64, activation='relu'),\n",
    "        tf.keras.layers.Dense(32, activation='relu'),\n",
    "        tf.keras.layers.Dense(num_classes, activation='softmax')\n",
    "    ])\n",
    "    return model\n",
    "\n",
    "# Train the model\n",
    "def train_model(model, X_train, y_train, X_val, y_val, epochs=50, batch_size=32):\n",
    "    model.compile(optimizer='adam',\n",
    "                  loss='categorical_crossentropy',\n",
    "                  metrics=['accuracy'])\n",
    "\n",
    "    early_stopping = tf.keras.callbacks.EarlyStopping(monitor='val_loss', patience=10, restore_best_weights=True)\n",
    "\n",
    "    history = model.fit(X_train, y_train,\n",
    "                        validation_data=(X_val, y_val),\n",
    "                        epochs=epochs,\n",
    "                        batch_size=batch_size,\n",
    "                        callbacks=[early_stopping],\n",
    "                        verbose=1)\n",
    "    return history\n",
    "\n",
    "# Evaluate the model\n",
    "def evaluate_model(model, X_test, y_test):\n",
    "    loss, accuracy = model.evaluate(X_test, y_test, verbose=0)\n",
    "    print(f\"Test accuracy: {accuracy:.4f}\")\n",
    "\n",
    "    y_pred = model.predict(X_test)\n",
    "    y_pred_classes = np.argmax(y_pred, axis=1)\n",
    "    y_test_classes = np.argmax(y_test, axis=1)\n",
    "\n",
    "    # Convert back to original labels for the classification report\n",
    "    inv_label_map = {v: k for k, v in label_map.items()}\n",
    "    y_pred_original = np.array([inv_label_map[label] for label in y_pred_classes])\n",
    "    y_test_original = np.array([inv_label_map[label] for label in y_test_classes])\n",
    "\n",
    "    print(classification_report(y_test_original, y_pred_original, digits=5))\n",
    "\n",
    "# Convert to TFLite\n",
    "def convert_to_tflite(model, X_test):\n",
    "    converter = tf.lite.TFLiteConverter.from_keras_model(model)\n",
    "    converter.optimizations = [tf.lite.Optimize.DEFAULT]\n",
    "    converter.target_spec.supported_ops = [tf.lite.OpsSet.TFLITE_BUILTINS_INT8]\n",
    "    converter.inference_input_type = tf.int8\n",
    "    converter.inference_output_type = tf.int8\n",
    "\n",
    "    def representative_dataset_gen():\n",
    "        for input_value in tf.data.Dataset.from_tensor_slices(X_test).batch(1).take(100):\n",
    "            yield [input_value]\n",
    "\n",
    "    converter.representative_dataset = representative_dataset_gen\n",
    "    tflite_model = converter.convert()\n",
    "\n",
    "    with open('subject_dependent_mlp_tflite_model.tflite', 'wb') as f:\n",
    "        f.write(tflite_model)\n",
    "    print(\"TFLite model saved as 'subject_dependent_mlp_tflite_model.tflite'\")\n",
    "\n",
    "# Load and preprocess data\n",
    "X_train, y_train, X_test, y_test, num_classes, label_map = load_and_preprocess_data()\n",
    "print(\"num_classes: \", num_classes)\n",
    "\n",
    "# Split training data into train and validation sets\n",
    "X_train, X_val, y_train, y_val = train_test_split(X_train, y_train, test_size=0.2, random_state=42)\n",
    "\n",
    "# Create and train the MLP model\n",
    "input_shape = (X_train.shape[1],)  # Input shape is now 1D (900,)\n",
    "MLP = create_mlp_model(input_shape, num_classes)\n",
    "history = train_model(MLP, X_train, y_train, X_val, y_val)\n",
    "\n",
    "# Evaluate the model\n",
    "evaluate_model(MLP, X_test, y_test)"
   ],
   "id": "8390301694ed832",
   "outputs": [
    {
     "name": "stderr",
     "output_type": "stream",
     "text": [
      "2024-09-27 16:24:21.002418: E external/local_xla/xla/stream_executor/cuda/cuda_fft.cc:485] Unable to register cuFFT factory: Attempting to register factory for plugin cuFFT when one has already been registered\n",
      "2024-09-27 16:24:21.072705: E external/local_xla/xla/stream_executor/cuda/cuda_dnn.cc:8454] Unable to register cuDNN factory: Attempting to register factory for plugin cuDNN when one has already been registered\n",
      "2024-09-27 16:24:21.089707: E external/local_xla/xla/stream_executor/cuda/cuda_blas.cc:1452] Unable to register cuBLAS factory: Attempting to register factory for plugin cuBLAS when one has already been registered\n",
      "2024-09-27 16:24:21.187416: I tensorflow/core/platform/cpu_feature_guard.cc:210] This TensorFlow binary is optimized to use available CPU instructions in performance-critical operations.\n",
      "To enable the following instructions: AVX2 FMA, in other operations, rebuild TensorFlow with the appropriate compiler flags.\n",
      "2024-09-27 16:24:21.894509: W tensorflow/compiler/tf2tensorrt/utils/py_utils.cc:38] TF-TRT Warning: Could not find TensorRT\n"
     ]
    },
    {
     "name": "stdout",
     "output_type": "stream",
     "text": [
      "Unique labels: [ 0.  1.  2.  3.  6.  7.  8.  9. 10. 11. 12. 13. 14. 19. 20. 21. 22. 23.\n",
      " 25. 26. 27.]\n",
      "Number of classes: 21\n",
      "One-hot encoded label shape: 21\n",
      "num_classes:  21\n"
     ]
    },
    {
     "name": "stderr",
     "output_type": "stream",
     "text": [
      "/home/denuvo-drm/miniconda3/envs/CompositeADLRecognition/lib/python3.10/site-packages/keras/src/layers/core/dense.py:87: UserWarning: Do not pass an `input_shape`/`input_dim` argument to a layer. When using Sequential models, prefer using an `Input(shape)` object as the first layer in the model instead.\n",
      "  super().__init__(activity_regularizer=activity_regularizer, **kwargs)\n",
      "WARNING: All log messages before absl::InitializeLog() is called are written to STDERR\n",
      "I0000 00:00:1727432686.162914   10688 cuda_executor.cc:1015] successful NUMA node read from SysFS had negative value (-1), but there must be at least one NUMA node, so returning NUMA node zero. See more at https://github.com/torvalds/linux/blob/v6.0/Documentation/ABI/testing/sysfs-bus-pci#L344-L355\n",
      "I0000 00:00:1727432686.272482   10688 cuda_executor.cc:1015] successful NUMA node read from SysFS had negative value (-1), but there must be at least one NUMA node, so returning NUMA node zero. See more at https://github.com/torvalds/linux/blob/v6.0/Documentation/ABI/testing/sysfs-bus-pci#L344-L355\n",
      "I0000 00:00:1727432686.273855   10688 cuda_executor.cc:1015] successful NUMA node read from SysFS had negative value (-1), but there must be at least one NUMA node, so returning NUMA node zero. See more at https://github.com/torvalds/linux/blob/v6.0/Documentation/ABI/testing/sysfs-bus-pci#L344-L355\n",
      "I0000 00:00:1727432686.276628   10688 cuda_executor.cc:1015] successful NUMA node read from SysFS had negative value (-1), but there must be at least one NUMA node, so returning NUMA node zero. See more at https://github.com/torvalds/linux/blob/v6.0/Documentation/ABI/testing/sysfs-bus-pci#L344-L355\n",
      "I0000 00:00:1727432686.277912   10688 cuda_executor.cc:1015] successful NUMA node read from SysFS had negative value (-1), but there must be at least one NUMA node, so returning NUMA node zero. See more at https://github.com/torvalds/linux/blob/v6.0/Documentation/ABI/testing/sysfs-bus-pci#L344-L355\n",
      "I0000 00:00:1727432686.279095   10688 cuda_executor.cc:1015] successful NUMA node read from SysFS had negative value (-1), but there must be at least one NUMA node, so returning NUMA node zero. See more at https://github.com/torvalds/linux/blob/v6.0/Documentation/ABI/testing/sysfs-bus-pci#L344-L355\n",
      "I0000 00:00:1727432686.384341   10688 cuda_executor.cc:1015] successful NUMA node read from SysFS had negative value (-1), but there must be at least one NUMA node, so returning NUMA node zero. See more at https://github.com/torvalds/linux/blob/v6.0/Documentation/ABI/testing/sysfs-bus-pci#L344-L355\n",
      "I0000 00:00:1727432686.385464   10688 cuda_executor.cc:1015] successful NUMA node read from SysFS had negative value (-1), but there must be at least one NUMA node, so returning NUMA node zero. See more at https://github.com/torvalds/linux/blob/v6.0/Documentation/ABI/testing/sysfs-bus-pci#L344-L355\n",
      "I0000 00:00:1727432686.386615   10688 cuda_executor.cc:1015] successful NUMA node read from SysFS had negative value (-1), but there must be at least one NUMA node, so returning NUMA node zero. See more at https://github.com/torvalds/linux/blob/v6.0/Documentation/ABI/testing/sysfs-bus-pci#L344-L355\n",
      "2024-09-27 16:24:46.387663: I tensorflow/core/common_runtime/gpu/gpu_device.cc:2021] Created device /job:localhost/replica:0/task:0/device:GPU:0 with 5874 MB memory:  -> device: 0, name: NVIDIA GeForce RTX 3070, pci bus id: 0000:0e:00.0, compute capability: 8.6\n"
     ]
    },
    {
     "name": "stdout",
     "output_type": "stream",
     "text": [
      "Epoch 1/50\n"
     ]
    },
    {
     "name": "stderr",
     "output_type": "stream",
     "text": [
      "WARNING: All log messages before absl::InitializeLog() is called are written to STDERR\n",
      "I0000 00:00:1727432687.496586   11054 service.cc:146] XLA service 0x7478c0005f40 initialized for platform CUDA (this does not guarantee that XLA will be used). Devices:\n",
      "I0000 00:00:1727432687.496611   11054 service.cc:154]   StreamExecutor device (0): NVIDIA GeForce RTX 3070, Compute Capability 8.6\n",
      "2024-09-27 16:24:47.526519: I tensorflow/compiler/mlir/tensorflow/utils/dump_mlir_util.cc:268] disabling MLIR crash reproducer, set env var `MLIR_CRASH_REPRODUCER_DIRECTORY` to enable.\n",
      "2024-09-27 16:24:47.642087: I external/local_xla/xla/stream_executor/cuda/cuda_dnn.cc:531] Loaded cuDNN version 8907\n",
      "2024-09-27 16:24:48.016606: I external/local_xla/xla/stream_executor/cuda/cuda_asm_compiler.cc:393] ptxas warning : Registers are spilled to local memory in function 'gemm_fusion_dot_391', 8 bytes spill stores, 8 bytes spill loads\n",
      "\n"
     ]
    },
    {
     "name": "stdout",
     "output_type": "stream",
     "text": [
      "\u001B[1m 150/2390\u001B[0m \u001B[32m━\u001B[0m\u001B[37m━━━━━━━━━━━━━━━━━━━\u001B[0m \u001B[1m2s\u001B[0m 1ms/step - accuracy: 0.2418 - loss: 2.5081"
     ]
    },
    {
     "name": "stderr",
     "output_type": "stream",
     "text": [
      "I0000 00:00:1727432688.692415   11054 device_compiler.h:188] Compiled cluster using XLA!  This line is logged at most once for the lifetime of the process.\n"
     ]
    },
    {
     "name": "stdout",
     "output_type": "stream",
     "text": [
      "\u001B[1m2390/2390\u001B[0m \u001B[32m━━━━━━━━━━━━━━━━━━━━\u001B[0m\u001B[37m\u001B[0m \u001B[1m7s\u001B[0m 2ms/step - accuracy: 0.5435 - loss: 1.4326 - val_accuracy: 0.7320 - val_loss: 0.8092\n",
      "Epoch 2/50\n",
      "\u001B[1m2390/2390\u001B[0m \u001B[32m━━━━━━━━━━━━━━━━━━━━\u001B[0m\u001B[37m\u001B[0m \u001B[1m2s\u001B[0m 824us/step - accuracy: 0.7528 - loss: 0.7338 - val_accuracy: 0.7647 - val_loss: 0.7115\n",
      "Epoch 3/50\n",
      "\u001B[1m2390/2390\u001B[0m \u001B[32m━━━━━━━━━━━━━━━━━━━━\u001B[0m\u001B[37m\u001B[0m \u001B[1m2s\u001B[0m 783us/step - accuracy: 0.7967 - loss: 0.5949 - val_accuracy: 0.8012 - val_loss: 0.6225\n",
      "Epoch 4/50\n",
      "\u001B[1m2390/2390\u001B[0m \u001B[32m━━━━━━━━━━━━━━━━━━━━\u001B[0m\u001B[37m\u001B[0m \u001B[1m2s\u001B[0m 887us/step - accuracy: 0.8172 - loss: 0.5341 - val_accuracy: 0.8098 - val_loss: 0.5949\n",
      "Epoch 5/50\n",
      "\u001B[1m2390/2390\u001B[0m \u001B[32m━━━━━━━━━━━━━━━━━━━━\u001B[0m\u001B[37m\u001B[0m \u001B[1m2s\u001B[0m 813us/step - accuracy: 0.8389 - loss: 0.4771 - val_accuracy: 0.8214 - val_loss: 0.5619\n",
      "Epoch 6/50\n",
      "\u001B[1m2390/2390\u001B[0m \u001B[32m━━━━━━━━━━━━━━━━━━━━\u001B[0m\u001B[37m\u001B[0m \u001B[1m2s\u001B[0m 843us/step - accuracy: 0.8493 - loss: 0.4376 - val_accuracy: 0.8298 - val_loss: 0.5536\n",
      "Epoch 7/50\n",
      "\u001B[1m2390/2390\u001B[0m \u001B[32m━━━━━━━━━━━━━━━━━━━━\u001B[0m\u001B[37m\u001B[0m \u001B[1m2s\u001B[0m 782us/step - accuracy: 0.8574 - loss: 0.4164 - val_accuracy: 0.8320 - val_loss: 0.5547\n",
      "Epoch 8/50\n",
      "\u001B[1m2390/2390\u001B[0m \u001B[32m━━━━━━━━━━━━━━━━━━━━\u001B[0m\u001B[37m\u001B[0m \u001B[1m2s\u001B[0m 981us/step - accuracy: 0.8676 - loss: 0.3910 - val_accuracy: 0.8266 - val_loss: 0.5856\n",
      "Epoch 9/50\n",
      "\u001B[1m2390/2390\u001B[0m \u001B[32m━━━━━━━━━━━━━━━━━━━━\u001B[0m\u001B[37m\u001B[0m \u001B[1m2s\u001B[0m 819us/step - accuracy: 0.8691 - loss: 0.3773 - val_accuracy: 0.8449 - val_loss: 0.5202\n",
      "Epoch 10/50\n",
      "\u001B[1m2390/2390\u001B[0m \u001B[32m━━━━━━━━━━━━━━━━━━━━\u001B[0m\u001B[37m\u001B[0m \u001B[1m2s\u001B[0m 633us/step - accuracy: 0.8758 - loss: 0.3602 - val_accuracy: 0.8405 - val_loss: 0.5502\n",
      "Epoch 11/50\n",
      "\u001B[1m2390/2390\u001B[0m \u001B[32m━━━━━━━━━━━━━━━━━━━━\u001B[0m\u001B[37m\u001B[0m \u001B[1m1s\u001B[0m 590us/step - accuracy: 0.8839 - loss: 0.3433 - val_accuracy: 0.8494 - val_loss: 0.5366\n",
      "Epoch 12/50\n",
      "\u001B[1m2390/2390\u001B[0m \u001B[32m━━━━━━━━━━━━━━━━━━━━\u001B[0m\u001B[37m\u001B[0m \u001B[1m2s\u001B[0m 743us/step - accuracy: 0.8853 - loss: 0.3301 - val_accuracy: 0.8479 - val_loss: 0.5339\n",
      "Epoch 13/50\n",
      "\u001B[1m2390/2390\u001B[0m \u001B[32m━━━━━━━━━━━━━━━━━━━━\u001B[0m\u001B[37m\u001B[0m \u001B[1m2s\u001B[0m 814us/step - accuracy: 0.8899 - loss: 0.3132 - val_accuracy: 0.8542 - val_loss: 0.5259\n",
      "Epoch 14/50\n",
      "\u001B[1m2390/2390\u001B[0m \u001B[32m━━━━━━━━━━━━━━━━━━━━\u001B[0m\u001B[37m\u001B[0m \u001B[1m2s\u001B[0m 711us/step - accuracy: 0.8953 - loss: 0.3018 - val_accuracy: 0.8445 - val_loss: 0.5526\n",
      "Epoch 15/50\n",
      "\u001B[1m2390/2390\u001B[0m \u001B[32m━━━━━━━━━━━━━━━━━━━━\u001B[0m\u001B[37m\u001B[0m \u001B[1m1s\u001B[0m 608us/step - accuracy: 0.8963 - loss: 0.2973 - val_accuracy: 0.8558 - val_loss: 0.5338\n",
      "Epoch 16/50\n",
      "\u001B[1m2390/2390\u001B[0m \u001B[32m━━━━━━━━━━━━━━━━━━━━\u001B[0m\u001B[37m\u001B[0m \u001B[1m2s\u001B[0m 673us/step - accuracy: 0.8989 - loss: 0.2903 - val_accuracy: 0.8432 - val_loss: 0.5682\n",
      "Epoch 17/50\n",
      "\u001B[1m2390/2390\u001B[0m \u001B[32m━━━━━━━━━━━━━━━━━━━━\u001B[0m\u001B[37m\u001B[0m \u001B[1m2s\u001B[0m 637us/step - accuracy: 0.9033 - loss: 0.2761 - val_accuracy: 0.8618 - val_loss: 0.5433\n",
      "Epoch 18/50\n",
      "\u001B[1m2390/2390\u001B[0m \u001B[32m━━━━━━━━━━━━━━━━━━━━\u001B[0m\u001B[37m\u001B[0m \u001B[1m1s\u001B[0m 596us/step - accuracy: 0.9051 - loss: 0.2750 - val_accuracy: 0.8517 - val_loss: 0.5779\n",
      "Epoch 19/50\n",
      "\u001B[1m2390/2390\u001B[0m \u001B[32m━━━━━━━━━━━━━━━━━━━━\u001B[0m\u001B[37m\u001B[0m \u001B[1m1s\u001B[0m 591us/step - accuracy: 0.9069 - loss: 0.2691 - val_accuracy: 0.8470 - val_loss: 0.6086\n",
      "Test accuracy: 0.8428\n",
      "\u001B[1m748/748\u001B[0m \u001B[32m━━━━━━━━━━━━━━━━━━━━\u001B[0m\u001B[37m\u001B[0m \u001B[1m1s\u001B[0m 947us/step\n",
      "              precision    recall  f1-score   support\n",
      "\n",
      "         0.0    0.82063   0.80052   0.81045      1143\n",
      "         1.0    0.96555   0.97371   0.96961      1065\n",
      "         2.0    0.87300   0.91777   0.89483      1131\n",
      "         3.0    0.87489   0.90503   0.88970      1074\n",
      "         6.0    0.82922   0.76923   0.79810      1092\n",
      "         7.0    0.81564   0.83429   0.82486      1050\n",
      "         8.0    0.84237   0.90991   0.87484      1110\n",
      "         9.0    0.83935   0.90547   0.87116      1206\n",
      "        10.0    0.84146   0.76780   0.80295      1348\n",
      "        11.0    0.80707   0.64384   0.71627      1241\n",
      "        12.0    0.82300   0.78024   0.80105      1174\n",
      "        13.0    0.88556   0.94203   0.91292      1035\n",
      "        14.0    0.89091   0.91078   0.90074      1076\n",
      "        19.0    0.72785   0.88534   0.79891      1160\n",
      "        20.0    0.73322   0.77643   0.75420      1069\n",
      "        21.0    0.74164   0.60949   0.66910      1201\n",
      "        22.0    0.96727   0.97436   0.97080      1092\n",
      "        23.0    0.86795   0.88651   0.87714      1216\n",
      "        25.0    0.82296   0.87757   0.84939      1070\n",
      "        26.0    0.85932   0.81840   0.83836      1239\n",
      "        27.0    0.88649   0.87779   0.88212      1121\n",
      "\n",
      "    accuracy                        0.84276     23913\n",
      "   macro avg    0.84359   0.84602   0.84321     23913\n",
      "weighted avg    0.84261   0.84276   0.84102     23913\n",
      "\n"
     ]
    }
   ],
   "execution_count": 1
  },
  {
   "metadata": {
    "ExecuteTime": {
     "end_time": "2024-09-27T10:25:29.117838Z",
     "start_time": "2024-09-27T10:25:28.248818Z"
    }
   },
   "cell_type": "code",
   "source": [
    "# Convert the model to TensorFlow Lite format\n",
    "converter = tf.lite.TFLiteConverter.from_keras_model(MLP)\n",
    "tflite_model = converter.convert()\n",
    "\n",
    "# Save the TFLite model\n",
    "with open(\"GeneratedTFLiteFilesAndOGModels/SimpleMLP.tflite\", \"wb\") as f:\n",
    "    f.write(tflite_model)\n",
    "\n",
    "print(\"TensorFlow Lite model has been saved as 'SimpleMLP.tflite'\")\n",
    "\n",
    "# Optional: Save the Keras model\n",
    "MLP.save(\"GeneratedTFLiteFilesAndOGModels/SimpleMLP.h5\")\n",
    "print(\"Keras model has been saved as 'SimpleMLP.h5'\")\n",
    "\n",
    "try:\n",
    "    from everywhereml.code_generators.tensorflow import convert_model\n",
    "\n",
    "    c_header = convert_model(MLP, X_test, y_test, model_name=\"SimpleMLP\")\n",
    "\n",
    "    with open(\"GeneratedHeaderFiles/SimpleMLP.h\", \"w\") as file:\n",
    "        file.write(c_header)\n",
    "\n",
    "    print(\"C header file has been saved as GeneratedHeaderFiles/SimpleMLP.h'\")\n",
    "except ImportError:\n",
    "    print(\"everywhereml library not found. Skipping C header file generation.\")"
   ],
   "id": "9a214e7ca71f51bc",
   "outputs": [
    {
     "name": "stdout",
     "output_type": "stream",
     "text": [
      "INFO:tensorflow:Assets written to: /tmp/tmpqjjwqwsv/assets\n"
     ]
    },
    {
     "name": "stderr",
     "output_type": "stream",
     "text": [
      "INFO:tensorflow:Assets written to: /tmp/tmpqjjwqwsv/assets\n"
     ]
    },
    {
     "name": "stdout",
     "output_type": "stream",
     "text": [
      "Saved artifact at '/tmp/tmpqjjwqwsv'. The following endpoints are available:\n",
      "\n",
      "* Endpoint 'serve'\n",
      "  args_0 (POSITIONAL_ONLY): TensorSpec(shape=(None, 900), dtype=tf.float32, name='keras_tensor')\n",
      "Output Type:\n",
      "  TensorSpec(shape=(None, 21), dtype=tf.float32, name=None)\n",
      "Captures:\n",
      "  128069934507184: TensorSpec(shape=(), dtype=tf.resource, name=None)\n",
      "  128069934511232: TensorSpec(shape=(), dtype=tf.resource, name=None)\n",
      "  128069930107296: TensorSpec(shape=(), dtype=tf.resource, name=None)\n",
      "  128069930110816: TensorSpec(shape=(), dtype=tf.resource, name=None)\n",
      "  128069930110464: TensorSpec(shape=(), dtype=tf.resource, name=None)\n",
      "  128069930112400: TensorSpec(shape=(), dtype=tf.resource, name=None)\n",
      "  128069930108352: TensorSpec(shape=(), dtype=tf.resource, name=None)\n",
      "  128069930113984: TensorSpec(shape=(), dtype=tf.resource, name=None)\n"
     ]
    },
    {
     "name": "stderr",
     "output_type": "stream",
     "text": [
      "W0000 00:00:1727432728.432713   10688 tf_tfl_flatbuffer_helpers.cc:392] Ignored output_format.\n",
      "W0000 00:00:1727432728.432726   10688 tf_tfl_flatbuffer_helpers.cc:395] Ignored drop_control_dependency.\n",
      "2024-09-27 16:25:28.432919: I tensorflow/cc/saved_model/reader.cc:83] Reading SavedModel from: /tmp/tmpqjjwqwsv\n",
      "2024-09-27 16:25:28.433176: I tensorflow/cc/saved_model/reader.cc:52] Reading meta graph with tags { serve }\n",
      "2024-09-27 16:25:28.433184: I tensorflow/cc/saved_model/reader.cc:147] Reading SavedModel debug info (if present) from: /tmp/tmpqjjwqwsv\n",
      "2024-09-27 16:25:28.435559: I tensorflow/compiler/mlir/mlir_graph_optimization_pass.cc:388] MLIR V1 optimization pass is not enabled\n",
      "2024-09-27 16:25:28.436018: I tensorflow/cc/saved_model/loader.cc:236] Restoring SavedModel bundle.\n",
      "2024-09-27 16:25:28.451251: I tensorflow/cc/saved_model/loader.cc:220] Running initialization op on SavedModel bundle at path: /tmp/tmpqjjwqwsv\n",
      "2024-09-27 16:25:28.455826: I tensorflow/cc/saved_model/loader.cc:462] SavedModel load for tags { serve }; Status: success: OK. Took 22909 microseconds.\n",
      "WARNING:absl:You are saving your model as an HDF5 file via `model.save()` or `keras.saving.save_model(model)`. This file format is considered legacy. We recommend using instead the native Keras format, e.g. `model.save('my_model.keras')` or `keras.saving.save_model(model, 'my_model.keras')`. \n"
     ]
    },
    {
     "name": "stdout",
     "output_type": "stream",
     "text": [
      "TensorFlow Lite model has been saved as 'SimpleMLP.tflite'\n",
      "Keras model has been saved as 'SimpleMLP.h5'\n",
      "INFO:tensorflow:Assets written to: /tmp/tmplg6r2p13/assets\n"
     ]
    },
    {
     "name": "stderr",
     "output_type": "stream",
     "text": [
      "INFO:tensorflow:Assets written to: /tmp/tmplg6r2p13/assets\n"
     ]
    },
    {
     "name": "stdout",
     "output_type": "stream",
     "text": [
      "Saved artifact at '/tmp/tmplg6r2p13'. The following endpoints are available:\n",
      "\n",
      "* Endpoint 'serve'\n",
      "  args_0 (POSITIONAL_ONLY): TensorSpec(shape=(None, 900), dtype=tf.float32, name='keras_tensor')\n",
      "Output Type:\n",
      "  TensorSpec(shape=(None, 21), dtype=tf.float32, name=None)\n",
      "Captures:\n",
      "  128069934507184: TensorSpec(shape=(), dtype=tf.resource, name=None)\n",
      "  128069934511232: TensorSpec(shape=(), dtype=tf.resource, name=None)\n",
      "  128069930107296: TensorSpec(shape=(), dtype=tf.resource, name=None)\n",
      "  128069930110816: TensorSpec(shape=(), dtype=tf.resource, name=None)\n",
      "  128069930110464: TensorSpec(shape=(), dtype=tf.resource, name=None)\n",
      "  128069930112400: TensorSpec(shape=(), dtype=tf.resource, name=None)\n",
      "  128069930108352: TensorSpec(shape=(), dtype=tf.resource, name=None)\n",
      "  128069930113984: TensorSpec(shape=(), dtype=tf.resource, name=None)\n"
     ]
    },
    {
     "name": "stderr",
     "output_type": "stream",
     "text": [
      "W0000 00:00:1727432728.689921   10688 tf_tfl_flatbuffer_helpers.cc:392] Ignored output_format.\n",
      "W0000 00:00:1727432728.689931   10688 tf_tfl_flatbuffer_helpers.cc:395] Ignored drop_control_dependency.\n",
      "2024-09-27 16:25:28.690036: I tensorflow/cc/saved_model/reader.cc:83] Reading SavedModel from: /tmp/tmplg6r2p13\n",
      "2024-09-27 16:25:28.690307: I tensorflow/cc/saved_model/reader.cc:52] Reading meta graph with tags { serve }\n",
      "2024-09-27 16:25:28.690317: I tensorflow/cc/saved_model/reader.cc:147] Reading SavedModel debug info (if present) from: /tmp/tmplg6r2p13\n",
      "2024-09-27 16:25:28.692660: I tensorflow/cc/saved_model/loader.cc:236] Restoring SavedModel bundle.\n",
      "2024-09-27 16:25:28.708366: I tensorflow/cc/saved_model/loader.cc:220] Running initialization op on SavedModel bundle at path: /tmp/tmplg6r2p13\n",
      "2024-09-27 16:25:28.713146: I tensorflow/cc/saved_model/loader.cc:462] SavedModel load for tags { serve }; Status: success: OK. Took 23112 microseconds.\n"
     ]
    },
    {
     "name": "stdout",
     "output_type": "stream",
     "text": [
      "C header file has been saved as GeneratedHeaderFiles/SimpleMLP.h'\n"
     ]
    }
   ],
   "execution_count": 2
  },
  {
   "metadata": {
    "ExecuteTime": {
     "end_time": "2024-09-27T10:25:29.165517Z",
     "start_time": "2024-09-27T10:25:29.163684Z"
    }
   },
   "cell_type": "code",
   "source": "",
   "id": "27e34f5b2ac11bdf",
   "outputs": [],
   "execution_count": null
  }
 ],
 "metadata": {
  "kernelspec": {
   "display_name": "Python 3",
   "language": "python",
   "name": "python3"
  },
  "language_info": {
   "codemirror_mode": {
    "name": "ipython",
    "version": 2
   },
   "file_extension": ".py",
   "mimetype": "text/x-python",
   "name": "python",
   "nbconvert_exporter": "python",
   "pygments_lexer": "ipython2",
   "version": "2.7.6"
  }
 },
 "nbformat": 4,
 "nbformat_minor": 5
}
