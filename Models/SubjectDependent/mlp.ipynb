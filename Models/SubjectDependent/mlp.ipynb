{
 "cells": [
  {
   "metadata": {
    "ExecuteTime": {
     "end_time": "2024-09-27T06:47:52.127603Z",
     "start_time": "2024-09-27T06:46:37.741590Z"
    }
   },
   "cell_type": "code",
   "source": [
    "import numpy as np\n",
    "import tensorflow as tf\n",
    "from sklearn.model_selection import train_test_split\n",
    "from sklearn.preprocessing import StandardScaler\n",
    "from sklearn.metrics import classification_report\n",
    "from tensorflow.keras.utils import to_categorical\n",
    "\n",
    "# Load and preprocess the dataset\n",
    "def load_and_preprocess_data():\n",
    "    # Load data\n",
    "    X_train = np.loadtxt(\"../../Datasets/CAPP Dataset/SubjectDependent50PercentOverlap/X_train.txt\")\n",
    "    y_train = np.loadtxt(\"../../Datasets/CAPP Dataset/SubjectDependent50PercentOverlap/y_train.txt\")\n",
    "    X_test = np.loadtxt(\"../../Datasets/CAPP Dataset/SubjectDependent50PercentOverlap/X_test.txt\")\n",
    "    y_test = np.loadtxt(\"../../Datasets/CAPP Dataset/SubjectDependent50PercentOverlap/y_test.txt\")\n",
    "\n",
    "    # Reshape data (assuming 100 time steps and 9 features)\n",
    "    X_train = X_train.reshape(X_train.shape[0], 100, 9)\n",
    "    X_test = X_test.reshape(X_test.shape[0], 100, 9)\n",
    "\n",
    "    # Normalize features\n",
    "    scaler = StandardScaler()\n",
    "    X_train_reshaped = X_train.reshape(-1, X_train.shape[-1])\n",
    "    X_test_reshaped = X_test.reshape(-1, X_test.shape[-1])\n",
    "    X_train_scaled = scaler.fit_transform(X_train_reshaped).reshape(X_train.shape)\n",
    "    X_test_scaled = scaler.transform(X_test_reshaped).reshape(X_test.shape)\n",
    "\n",
    "    # Manually flatten the input data\n",
    "    X_train_flattened = X_train_scaled.reshape(X_train_scaled.shape[0], -1)  # (samples, 900)\n",
    "    X_test_flattened = X_test_scaled.reshape(X_test_scaled.shape[0], -1)     # (samples, 900)\n",
    "\n",
    "    # Find the actual number of unique classes\n",
    "    all_labels = np.unique(np.concatenate((y_train, y_test)))\n",
    "    num_classes = len(all_labels)\n",
    "    print(f\"Unique labels: {all_labels}\")\n",
    "    print(f\"Number of classes: {num_classes}\")\n",
    "\n",
    "    # Create a mapping from original labels to consecutive integers\n",
    "    label_map = {label: i for i, label in enumerate(all_labels)}\n",
    "\n",
    "    # Apply the mapping to y_train and y_test\n",
    "    y_train_mapped = np.array([label_map[label] for label in y_train])\n",
    "    y_test_mapped = np.array([label_map[label] for label in y_test])\n",
    "\n",
    "    # One-hot encode the mapped labels\n",
    "    y_train_onehot = to_categorical(y_train_mapped, num_classes=num_classes)\n",
    "    y_test_onehot = to_categorical(y_test_mapped, num_classes=num_classes)\n",
    "\n",
    "    print(f\"One-hot encoded label shape: {y_train_onehot.shape[1]}\")\n",
    "\n",
    "    return X_train_flattened, y_train_onehot, X_test_flattened, y_test_onehot, num_classes, label_map\n",
    "\n",
    "# Create a simple MLP model for TFLite Micro\n",
    "def create_mlp_model(input_shape, num_classes):\n",
    "    model = tf.keras.Sequential([\n",
    "        # No need for a Flatten layer anymore, input data is already flattened\n",
    "        tf.keras.layers.Dense(128, activation='relu', input_shape=input_shape),\n",
    "        tf.keras.layers.Dense(64, activation='relu'),\n",
    "        tf.keras.layers.Dense(32, activation='relu'),\n",
    "        tf.keras.layers.Dense(num_classes, activation='softmax')\n",
    "    ])\n",
    "    return model\n",
    "\n",
    "# Train the model\n",
    "def train_model(model, X_train, y_train, X_val, y_val, epochs=50, batch_size=32):\n",
    "    model.compile(optimizer='adam',\n",
    "                  loss='categorical_crossentropy',\n",
    "                  metrics=['accuracy'])\n",
    "\n",
    "    early_stopping = tf.keras.callbacks.EarlyStopping(monitor='val_loss', patience=10, restore_best_weights=True)\n",
    "\n",
    "    history = model.fit(X_train, y_train,\n",
    "                        validation_data=(X_val, y_val),\n",
    "                        epochs=epochs,\n",
    "                        batch_size=batch_size,\n",
    "                        callbacks=[early_stopping],\n",
    "                        verbose=1)\n",
    "    return history\n",
    "\n",
    "# Evaluate the model\n",
    "def evaluate_model(model, X_test, y_test):\n",
    "    loss, accuracy = model.evaluate(X_test, y_test, verbose=0)\n",
    "    print(f\"Test accuracy: {accuracy:.4f}\")\n",
    "\n",
    "    y_pred = model.predict(X_test)\n",
    "    y_pred_classes = np.argmax(y_pred, axis=1)\n",
    "    y_test_classes = np.argmax(y_test, axis=1)\n",
    "\n",
    "    # Convert back to original labels for the classification report\n",
    "    inv_label_map = {v: k for k, v in label_map.items()}\n",
    "    y_pred_original = np.array([inv_label_map[label] for label in y_pred_classes])\n",
    "    y_test_original = np.array([inv_label_map[label] for label in y_test_classes])\n",
    "\n",
    "    print(classification_report(y_test_original, y_pred_original, digits=5))\n",
    "\n",
    "# Convert to TFLite\n",
    "def convert_to_tflite(model, X_test):\n",
    "    converter = tf.lite.TFLiteConverter.from_keras_model(model)\n",
    "    converter.optimizations = [tf.lite.Optimize.DEFAULT]\n",
    "    converter.target_spec.supported_ops = [tf.lite.OpsSet.TFLITE_BUILTINS_INT8]\n",
    "    converter.inference_input_type = tf.int8\n",
    "    converter.inference_output_type = tf.int8\n",
    "\n",
    "    def representative_dataset_gen():\n",
    "        for input_value in tf.data.Dataset.from_tensor_slices(X_test).batch(1).take(100):\n",
    "            yield [input_value]\n",
    "\n",
    "    converter.representative_dataset = representative_dataset_gen\n",
    "    tflite_model = converter.convert()\n",
    "\n",
    "    with open('subject_dependent_mlp_tflite_model.tflite', 'wb') as f:\n",
    "        f.write(tflite_model)\n",
    "    print(\"TFLite model saved as 'subject_dependent_mlp_tflite_model.tflite'\")\n",
    "\n",
    "# Load and preprocess data\n",
    "X_train, y_train, X_test, y_test, num_classes, label_map = load_and_preprocess_data()\n",
    "print(\"num_classes: \", num_classes)\n",
    "\n",
    "# Split training data into train and validation sets\n",
    "X_train, X_val, y_train, y_val = train_test_split(X_train, y_train, test_size=0.2, random_state=42)\n",
    "\n",
    "# Create and train the MLP model\n",
    "input_shape = (X_train.shape[1],)  # Input shape is now 1D (900,)\n",
    "MLP = create_mlp_model(input_shape, num_classes)\n",
    "history = train_model(MLP, X_train, y_train, X_val, y_val)\n",
    "\n",
    "# Evaluate the model\n",
    "evaluate_model(MLP, X_test, y_test)"
   ],
   "id": "8390301694ed832",
   "outputs": [
    {
     "name": "stderr",
     "output_type": "stream",
     "text": [
      "2024-09-27 12:46:37.930727: E external/local_xla/xla/stream_executor/cuda/cuda_fft.cc:485] Unable to register cuFFT factory: Attempting to register factory for plugin cuFFT when one has already been registered\n",
      "2024-09-27 12:46:37.941412: E external/local_xla/xla/stream_executor/cuda/cuda_dnn.cc:8454] Unable to register cuDNN factory: Attempting to register factory for plugin cuDNN when one has already been registered\n",
      "2024-09-27 12:46:37.944771: E external/local_xla/xla/stream_executor/cuda/cuda_blas.cc:1452] Unable to register cuBLAS factory: Attempting to register factory for plugin cuBLAS when one has already been registered\n",
      "2024-09-27 12:46:37.953300: I tensorflow/core/platform/cpu_feature_guard.cc:210] This TensorFlow binary is optimized to use available CPU instructions in performance-critical operations.\n",
      "To enable the following instructions: AVX2 FMA, in other operations, rebuild TensorFlow with the appropriate compiler flags.\n",
      "2024-09-27 12:46:38.449696: W tensorflow/compiler/tf2tensorrt/utils/py_utils.cc:38] TF-TRT Warning: Could not find TensorRT\n"
     ]
    },
    {
     "name": "stdout",
     "output_type": "stream",
     "text": [
      "Unique labels: [ 0.  1.  2.  3.  6.  7.  8.  9. 10. 11. 12. 13. 14. 19. 20. 21. 22. 23.\n",
      " 25. 26. 27.]\n",
      "Number of classes: 21\n",
      "One-hot encoded label shape: 21\n",
      "num_classes:  21\n"
     ]
    },
    {
     "name": "stderr",
     "output_type": "stream",
     "text": [
      "/home/denuvo-drm/miniconda3/envs/CompositeADLRecognition/lib/python3.10/site-packages/keras/src/layers/core/dense.py:87: UserWarning: Do not pass an `input_shape`/`input_dim` argument to a layer. When using Sequential models, prefer using an `Input(shape)` object as the first layer in the model instead.\n",
      "  super().__init__(activity_regularizer=activity_regularizer, **kwargs)\n",
      "WARNING: All log messages before absl::InitializeLog() is called are written to STDERR\n",
      "I0000 00:00:1727419621.541595  251832 cuda_executor.cc:1015] successful NUMA node read from SysFS had negative value (-1), but there must be at least one NUMA node, so returning NUMA node zero. See more at https://github.com/torvalds/linux/blob/v6.0/Documentation/ABI/testing/sysfs-bus-pci#L344-L355\n",
      "I0000 00:00:1727419621.576805  251832 cuda_executor.cc:1015] successful NUMA node read from SysFS had negative value (-1), but there must be at least one NUMA node, so returning NUMA node zero. See more at https://github.com/torvalds/linux/blob/v6.0/Documentation/ABI/testing/sysfs-bus-pci#L344-L355\n",
      "I0000 00:00:1727419621.579779  251832 cuda_executor.cc:1015] successful NUMA node read from SysFS had negative value (-1), but there must be at least one NUMA node, so returning NUMA node zero. See more at https://github.com/torvalds/linux/blob/v6.0/Documentation/ABI/testing/sysfs-bus-pci#L344-L355\n",
      "I0000 00:00:1727419621.584332  251832 cuda_executor.cc:1015] successful NUMA node read from SysFS had negative value (-1), but there must be at least one NUMA node, so returning NUMA node zero. See more at https://github.com/torvalds/linux/blob/v6.0/Documentation/ABI/testing/sysfs-bus-pci#L344-L355\n",
      "I0000 00:00:1727419621.587255  251832 cuda_executor.cc:1015] successful NUMA node read from SysFS had negative value (-1), but there must be at least one NUMA node, so returning NUMA node zero. See more at https://github.com/torvalds/linux/blob/v6.0/Documentation/ABI/testing/sysfs-bus-pci#L344-L355\n",
      "I0000 00:00:1727419621.589927  251832 cuda_executor.cc:1015] successful NUMA node read from SysFS had negative value (-1), but there must be at least one NUMA node, so returning NUMA node zero. See more at https://github.com/torvalds/linux/blob/v6.0/Documentation/ABI/testing/sysfs-bus-pci#L344-L355\n",
      "I0000 00:00:1727419621.693993  251832 cuda_executor.cc:1015] successful NUMA node read from SysFS had negative value (-1), but there must be at least one NUMA node, so returning NUMA node zero. See more at https://github.com/torvalds/linux/blob/v6.0/Documentation/ABI/testing/sysfs-bus-pci#L344-L355\n",
      "I0000 00:00:1727419621.695113  251832 cuda_executor.cc:1015] successful NUMA node read from SysFS had negative value (-1), but there must be at least one NUMA node, so returning NUMA node zero. See more at https://github.com/torvalds/linux/blob/v6.0/Documentation/ABI/testing/sysfs-bus-pci#L344-L355\n",
      "I0000 00:00:1727419621.696184  251832 cuda_executor.cc:1015] successful NUMA node read from SysFS had negative value (-1), but there must be at least one NUMA node, so returning NUMA node zero. See more at https://github.com/torvalds/linux/blob/v6.0/Documentation/ABI/testing/sysfs-bus-pci#L344-L355\n",
      "2024-09-27 12:47:01.697203: I tensorflow/core/common_runtime/gpu/gpu_device.cc:2021] Created device /job:localhost/replica:0/task:0/device:GPU:0 with 5657 MB memory:  -> device: 0, name: NVIDIA GeForce RTX 3070, pci bus id: 0000:0e:00.0, compute capability: 8.6\n"
     ]
    },
    {
     "name": "stdout",
     "output_type": "stream",
     "text": [
      "Epoch 1/50\n"
     ]
    },
    {
     "name": "stderr",
     "output_type": "stream",
     "text": [
      "WARNING: All log messages before absl::InitializeLog() is called are written to STDERR\n",
      "I0000 00:00:1727419622.772848  252179 service.cc:146] XLA service 0x776cc0004810 initialized for platform CUDA (this does not guarantee that XLA will be used). Devices:\n",
      "I0000 00:00:1727419622.772873  252179 service.cc:154]   StreamExecutor device (0): NVIDIA GeForce RTX 3070, Compute Capability 8.6\n",
      "2024-09-27 12:47:02.811038: I tensorflow/compiler/mlir/tensorflow/utils/dump_mlir_util.cc:268] disabling MLIR crash reproducer, set env var `MLIR_CRASH_REPRODUCER_DIRECTORY` to enable.\n",
      "2024-09-27 12:47:02.910000: I external/local_xla/xla/stream_executor/cuda/cuda_dnn.cc:531] Loaded cuDNN version 8907\n",
      "2024-09-27 12:47:03.254552: I external/local_xla/xla/stream_executor/cuda/cuda_asm_compiler.cc:393] ptxas warning : Registers are spilled to local memory in function 'gemm_fusion_dot_391', 8 bytes spill stores, 8 bytes spill loads\n",
      "\n"
     ]
    },
    {
     "name": "stdout",
     "output_type": "stream",
     "text": [
      "\u001B[1m 144/2390\u001B[0m \u001B[32m━\u001B[0m\u001B[37m━━━━━━━━━━━━━━━━━━━\u001B[0m \u001B[1m2s\u001B[0m 1ms/step - accuracy: 0.2705 - loss: 2.4533"
     ]
    },
    {
     "name": "stderr",
     "output_type": "stream",
     "text": [
      "I0000 00:00:1727419624.083026  252179 device_compiler.h:188] Compiled cluster using XLA!  This line is logged at most once for the lifetime of the process.\n"
     ]
    },
    {
     "name": "stdout",
     "output_type": "stream",
     "text": [
      "\u001B[1m2390/2390\u001B[0m \u001B[32m━━━━━━━━━━━━━━━━━━━━\u001B[0m\u001B[37m\u001B[0m \u001B[1m6s\u001B[0m 2ms/step - accuracy: 0.5478 - loss: 1.4205 - val_accuracy: 0.7211 - val_loss: 0.8359\n",
      "Epoch 2/50\n",
      "\u001B[1m2390/2390\u001B[0m \u001B[32m━━━━━━━━━━━━━━━━━━━━\u001B[0m\u001B[37m\u001B[0m \u001B[1m2s\u001B[0m 724us/step - accuracy: 0.7493 - loss: 0.7501 - val_accuracy: 0.7613 - val_loss: 0.7166\n",
      "Epoch 3/50\n",
      "\u001B[1m2390/2390\u001B[0m \u001B[32m━━━━━━━━━━━━━━━━━━━━\u001B[0m\u001B[37m\u001B[0m \u001B[1m2s\u001B[0m 709us/step - accuracy: 0.7904 - loss: 0.6248 - val_accuracy: 0.7770 - val_loss: 0.6761\n",
      "Epoch 4/50\n",
      "\u001B[1m2390/2390\u001B[0m \u001B[32m━━━━━━━━━━━━━━━━━━━━\u001B[0m\u001B[37m\u001B[0m \u001B[1m3s\u001B[0m 1ms/step - accuracy: 0.8158 - loss: 0.5384 - val_accuracy: 0.7989 - val_loss: 0.6228\n",
      "Epoch 5/50\n",
      "\u001B[1m2390/2390\u001B[0m \u001B[32m━━━━━━━━━━━━━━━━━━━━\u001B[0m\u001B[37m\u001B[0m \u001B[1m3s\u001B[0m 1ms/step - accuracy: 0.8329 - loss: 0.4928 - val_accuracy: 0.8068 - val_loss: 0.6071\n",
      "Epoch 6/50\n",
      "\u001B[1m2390/2390\u001B[0m \u001B[32m━━━━━━━━━━━━━━━━━━━━\u001B[0m\u001B[37m\u001B[0m \u001B[1m2s\u001B[0m 626us/step - accuracy: 0.8461 - loss: 0.4478 - val_accuracy: 0.8181 - val_loss: 0.5854\n",
      "Epoch 7/50\n",
      "\u001B[1m2390/2390\u001B[0m \u001B[32m━━━━━━━━━━━━━━━━━━━━\u001B[0m\u001B[37m\u001B[0m \u001B[1m2s\u001B[0m 635us/step - accuracy: 0.8568 - loss: 0.4194 - val_accuracy: 0.8260 - val_loss: 0.5722\n",
      "Epoch 8/50\n",
      "\u001B[1m2390/2390\u001B[0m \u001B[32m━━━━━━━━━━━━━━━━━━━━\u001B[0m\u001B[37m\u001B[0m \u001B[1m2s\u001B[0m 696us/step - accuracy: 0.8646 - loss: 0.3986 - val_accuracy: 0.8307 - val_loss: 0.5493\n",
      "Epoch 9/50\n",
      "\u001B[1m2390/2390\u001B[0m \u001B[32m━━━━━━━━━━━━━━━━━━━━\u001B[0m\u001B[37m\u001B[0m \u001B[1m2s\u001B[0m 799us/step - accuracy: 0.8722 - loss: 0.3759 - val_accuracy: 0.8332 - val_loss: 0.5601\n",
      "Epoch 10/50\n",
      "\u001B[1m2390/2390\u001B[0m \u001B[32m━━━━━━━━━━━━━━━━━━━━\u001B[0m\u001B[37m\u001B[0m \u001B[1m2s\u001B[0m 928us/step - accuracy: 0.8767 - loss: 0.3576 - val_accuracy: 0.8348 - val_loss: 0.5588\n",
      "Epoch 11/50\n",
      "\u001B[1m2390/2390\u001B[0m \u001B[32m━━━━━━━━━━━━━━━━━━━━\u001B[0m\u001B[37m\u001B[0m \u001B[1m2s\u001B[0m 946us/step - accuracy: 0.8845 - loss: 0.3352 - val_accuracy: 0.8512 - val_loss: 0.5279\n",
      "Epoch 12/50\n",
      "\u001B[1m2390/2390\u001B[0m \u001B[32m━━━━━━━━━━━━━━━━━━━━\u001B[0m\u001B[37m\u001B[0m \u001B[1m2s\u001B[0m 999us/step - accuracy: 0.8842 - loss: 0.3316 - val_accuracy: 0.8546 - val_loss: 0.5227\n",
      "Epoch 13/50\n",
      "\u001B[1m2390/2390\u001B[0m \u001B[32m━━━━━━━━━━━━━━━━━━━━\u001B[0m\u001B[37m\u001B[0m \u001B[1m2s\u001B[0m 932us/step - accuracy: 0.8932 - loss: 0.3120 - val_accuracy: 0.8476 - val_loss: 0.5509\n",
      "Epoch 14/50\n",
      "\u001B[1m2390/2390\u001B[0m \u001B[32m━━━━━━━━━━━━━━━━━━━━\u001B[0m\u001B[37m\u001B[0m \u001B[1m2s\u001B[0m 1ms/step - accuracy: 0.8943 - loss: 0.3059 - val_accuracy: 0.8463 - val_loss: 0.5724\n",
      "Epoch 15/50\n",
      "\u001B[1m2390/2390\u001B[0m \u001B[32m━━━━━━━━━━━━━━━━━━━━\u001B[0m\u001B[37m\u001B[0m \u001B[1m2s\u001B[0m 976us/step - accuracy: 0.8996 - loss: 0.2921 - val_accuracy: 0.8578 - val_loss: 0.5351\n",
      "Epoch 16/50\n",
      "\u001B[1m2390/2390\u001B[0m \u001B[32m━━━━━━━━━━━━━━━━━━━━\u001B[0m\u001B[37m\u001B[0m \u001B[1m2s\u001B[0m 987us/step - accuracy: 0.9042 - loss: 0.2829 - val_accuracy: 0.8578 - val_loss: 0.5496\n",
      "Epoch 17/50\n",
      "\u001B[1m2390/2390\u001B[0m \u001B[32m━━━━━━━━━━━━━━━━━━━━\u001B[0m\u001B[37m\u001B[0m \u001B[1m2s\u001B[0m 774us/step - accuracy: 0.9050 - loss: 0.2763 - val_accuracy: 0.8517 - val_loss: 0.5711\n",
      "Epoch 18/50\n",
      "\u001B[1m2390/2390\u001B[0m \u001B[32m━━━━━━━━━━━━━━━━━━━━\u001B[0m\u001B[37m\u001B[0m \u001B[1m2s\u001B[0m 635us/step - accuracy: 0.9044 - loss: 0.2714 - val_accuracy: 0.8544 - val_loss: 0.5659\n",
      "Epoch 19/50\n",
      "\u001B[1m2390/2390\u001B[0m \u001B[32m━━━━━━━━━━━━━━━━━━━━\u001B[0m\u001B[37m\u001B[0m \u001B[1m1s\u001B[0m 614us/step - accuracy: 0.9089 - loss: 0.2634 - val_accuracy: 0.8488 - val_loss: 0.5909\n",
      "Epoch 20/50\n",
      "\u001B[1m2390/2390\u001B[0m \u001B[32m━━━━━━━━━━━━━━━━━━━━\u001B[0m\u001B[37m\u001B[0m \u001B[1m2s\u001B[0m 626us/step - accuracy: 0.9118 - loss: 0.2548 - val_accuracy: 0.8536 - val_loss: 0.5786\n",
      "Epoch 21/50\n",
      "\u001B[1m2390/2390\u001B[0m \u001B[32m━━━━━━━━━━━━━━━━━━━━\u001B[0m\u001B[37m\u001B[0m \u001B[1m2s\u001B[0m 648us/step - accuracy: 0.9142 - loss: 0.2474 - val_accuracy: 0.8564 - val_loss: 0.5943\n",
      "Epoch 22/50\n",
      "\u001B[1m2390/2390\u001B[0m \u001B[32m━━━━━━━━━━━━━━━━━━━━\u001B[0m\u001B[37m\u001B[0m \u001B[1m2s\u001B[0m 647us/step - accuracy: 0.9158 - loss: 0.2434 - val_accuracy: 0.8546 - val_loss: 0.5941\n",
      "Test accuracy: 0.8509\n",
      "\u001B[1m748/748\u001B[0m \u001B[32m━━━━━━━━━━━━━━━━━━━━\u001B[0m\u001B[37m\u001B[0m \u001B[1m1s\u001B[0m 999us/step\n",
      "              precision    recall  f1-score   support\n",
      "\n",
      "         0.0    0.85361   0.75503   0.80130      1143\n",
      "         1.0    0.97073   0.96526   0.96798      1065\n",
      "         2.0    0.85304   0.94430   0.89635      1131\n",
      "         3.0    0.87565   0.93762   0.90558      1074\n",
      "         6.0    0.80910   0.83059   0.81970      1092\n",
      "         7.0    0.89018   0.80286   0.84427      1050\n",
      "         8.0    0.91083   0.85586   0.88249      1110\n",
      "         9.0    0.88925   0.90547   0.89729      1206\n",
      "        10.0    0.80334   0.82122   0.81218      1348\n",
      "        11.0    0.87190   0.68010   0.76415      1241\n",
      "        12.0    0.79899   0.81261   0.80574      1174\n",
      "        13.0    0.91956   0.89469   0.90695      1035\n",
      "        14.0    0.88969   0.92193   0.90552      1076\n",
      "        19.0    0.76669   0.86121   0.81121      1160\n",
      "        20.0    0.69672   0.79514   0.74268      1069\n",
      "        21.0    0.75089   0.70025   0.72469      1201\n",
      "        22.0    0.97443   0.97711   0.97577      1092\n",
      "        23.0    0.87231   0.89885   0.88538      1216\n",
      "        25.0    0.84267   0.88598   0.86378      1070\n",
      "        26.0    0.80508   0.87006   0.83631      1239\n",
      "        27.0    0.90355   0.79393   0.84520      1121\n",
      "\n",
      "    accuracy                        0.85088     23913\n",
      "   macro avg    0.85468   0.85286   0.85212     23913\n",
      "weighted avg    0.85314   0.85088   0.85033     23913\n",
      "\n"
     ]
    }
   ],
   "execution_count": 1
  },
  {
   "metadata": {
    "ExecuteTime": {
     "end_time": "2024-09-27T06:47:53.024987Z",
     "start_time": "2024-09-27T06:47:52.137211Z"
    }
   },
   "cell_type": "code",
   "source": [
    "# Convert the model to TensorFlow Lite format\n",
    "converter = tf.lite.TFLiteConverter.from_keras_model(MLP)\n",
    "tflite_model = converter.convert()\n",
    "\n",
    "# Save the TFLite model\n",
    "with open(\"GeneratedTFLiteFilesAndOGModels/SimpleMLP.tflite\", \"wb\") as f:\n",
    "    f.write(tflite_model)\n",
    "\n",
    "print(\"TensorFlow Lite model has been saved as 'SimpleMLP.tflite'\")\n",
    "\n",
    "# Optional: Save the Keras model\n",
    "MLP.save(\"GeneratedTFLiteFilesAndOGModels/SimpleMLP.h5\")\n",
    "print(\"Keras model has been saved as 'SimpleMLP.h5'\")\n",
    "\n",
    "try:\n",
    "    from everywhereml.code_generators.tensorflow import convert_model\n",
    "\n",
    "    c_header = convert_model(MLP, X_test, y_test, model_name=\"SimpleMLP\")\n",
    "\n",
    "    with open(\"GeneratedHeaderFiles/SimpleMLP.h\", \"w\") as file:\n",
    "        file.write(c_header)\n",
    "\n",
    "    print(\"C header file has been saved as GeneratedHeaderFiles/SimpleMLP.h'\")\n",
    "except ImportError:\n",
    "    print(\"everywhereml library not found. Skipping C header file generation.\")"
   ],
   "id": "9a214e7ca71f51bc",
   "outputs": [
    {
     "name": "stdout",
     "output_type": "stream",
     "text": [
      "INFO:tensorflow:Assets written to: /tmp/tmpjuiz3q7j/assets\n"
     ]
    },
    {
     "name": "stderr",
     "output_type": "stream",
     "text": [
      "INFO:tensorflow:Assets written to: /tmp/tmpjuiz3q7j/assets\n"
     ]
    },
    {
     "name": "stdout",
     "output_type": "stream",
     "text": [
      "Saved artifact at '/tmp/tmpjuiz3q7j'. The following endpoints are available:\n",
      "\n",
      "* Endpoint 'serve'\n",
      "  args_0 (POSITIONAL_ONLY): TensorSpec(shape=(None, 900), dtype=tf.float32, name='keras_tensor')\n",
      "Output Type:\n",
      "  TensorSpec(shape=(None, 21), dtype=tf.float32, name=None)\n",
      "Captures:\n",
      "  131317001151840: TensorSpec(shape=(), dtype=tf.resource, name=None)\n",
      "  131317001155536: TensorSpec(shape=(), dtype=tf.resource, name=None)\n",
      "  131316996751600: TensorSpec(shape=(), dtype=tf.resource, name=None)\n",
      "  131316996755296: TensorSpec(shape=(), dtype=tf.resource, name=None)\n",
      "  131316996754240: TensorSpec(shape=(), dtype=tf.resource, name=None)\n",
      "  131316996756880: TensorSpec(shape=(), dtype=tf.resource, name=None)\n",
      "  131316996752656: TensorSpec(shape=(), dtype=tf.resource, name=None)\n",
      "  131316996758464: TensorSpec(shape=(), dtype=tf.resource, name=None)\n"
     ]
    },
    {
     "name": "stderr",
     "output_type": "stream",
     "text": [
      "W0000 00:00:1727419672.331898  251832 tf_tfl_flatbuffer_helpers.cc:392] Ignored output_format.\n",
      "W0000 00:00:1727419672.331911  251832 tf_tfl_flatbuffer_helpers.cc:395] Ignored drop_control_dependency.\n",
      "2024-09-27 12:47:52.332114: I tensorflow/cc/saved_model/reader.cc:83] Reading SavedModel from: /tmp/tmpjuiz3q7j\n",
      "2024-09-27 12:47:52.332379: I tensorflow/cc/saved_model/reader.cc:52] Reading meta graph with tags { serve }\n",
      "2024-09-27 12:47:52.332388: I tensorflow/cc/saved_model/reader.cc:147] Reading SavedModel debug info (if present) from: /tmp/tmpjuiz3q7j\n",
      "2024-09-27 12:47:52.334874: I tensorflow/compiler/mlir/mlir_graph_optimization_pass.cc:388] MLIR V1 optimization pass is not enabled\n",
      "2024-09-27 12:47:52.335379: I tensorflow/cc/saved_model/loader.cc:236] Restoring SavedModel bundle.\n",
      "2024-09-27 12:47:52.351001: I tensorflow/cc/saved_model/loader.cc:220] Running initialization op on SavedModel bundle at path: /tmp/tmpjuiz3q7j\n",
      "2024-09-27 12:47:52.355802: I tensorflow/cc/saved_model/loader.cc:462] SavedModel load for tags { serve }; Status: success: OK. Took 23690 microseconds.\n",
      "WARNING:absl:You are saving your model as an HDF5 file via `model.save()` or `keras.saving.save_model(model)`. This file format is considered legacy. We recommend using instead the native Keras format, e.g. `model.save('my_model.keras')` or `keras.saving.save_model(model, 'my_model.keras')`. \n"
     ]
    },
    {
     "name": "stdout",
     "output_type": "stream",
     "text": [
      "TensorFlow Lite model has been saved as 'SimpleMLP.tflite'\n",
      "Keras model has been saved as 'SimpleMLP.h5'\n",
      "INFO:tensorflow:Assets written to: /tmp/tmp5u1w45ut/assets\n"
     ]
    },
    {
     "name": "stderr",
     "output_type": "stream",
     "text": [
      "INFO:tensorflow:Assets written to: /tmp/tmp5u1w45ut/assets\n"
     ]
    },
    {
     "name": "stdout",
     "output_type": "stream",
     "text": [
      "Saved artifact at '/tmp/tmp5u1w45ut'. The following endpoints are available:\n",
      "\n",
      "* Endpoint 'serve'\n",
      "  args_0 (POSITIONAL_ONLY): TensorSpec(shape=(None, 900), dtype=tf.float32, name='keras_tensor')\n",
      "Output Type:\n",
      "  TensorSpec(shape=(None, 21), dtype=tf.float32, name=None)\n",
      "Captures:\n",
      "  131317001151840: TensorSpec(shape=(), dtype=tf.resource, name=None)\n",
      "  131317001155536: TensorSpec(shape=(), dtype=tf.resource, name=None)\n",
      "  131316996751600: TensorSpec(shape=(), dtype=tf.resource, name=None)\n",
      "  131316996755296: TensorSpec(shape=(), dtype=tf.resource, name=None)\n",
      "  131316996754240: TensorSpec(shape=(), dtype=tf.resource, name=None)\n",
      "  131316996756880: TensorSpec(shape=(), dtype=tf.resource, name=None)\n",
      "  131316996752656: TensorSpec(shape=(), dtype=tf.resource, name=None)\n",
      "  131316996758464: TensorSpec(shape=(), dtype=tf.resource, name=None)\n"
     ]
    },
    {
     "name": "stderr",
     "output_type": "stream",
     "text": [
      "W0000 00:00:1727419672.589437  251832 tf_tfl_flatbuffer_helpers.cc:392] Ignored output_format.\n",
      "W0000 00:00:1727419672.589447  251832 tf_tfl_flatbuffer_helpers.cc:395] Ignored drop_control_dependency.\n",
      "2024-09-27 12:47:52.589557: I tensorflow/cc/saved_model/reader.cc:83] Reading SavedModel from: /tmp/tmp5u1w45ut\n",
      "2024-09-27 12:47:52.589820: I tensorflow/cc/saved_model/reader.cc:52] Reading meta graph with tags { serve }\n",
      "2024-09-27 12:47:52.589828: I tensorflow/cc/saved_model/reader.cc:147] Reading SavedModel debug info (if present) from: /tmp/tmp5u1w45ut\n",
      "2024-09-27 12:47:52.592268: I tensorflow/cc/saved_model/loader.cc:236] Restoring SavedModel bundle.\n",
      "2024-09-27 12:47:52.607739: I tensorflow/cc/saved_model/loader.cc:220] Running initialization op on SavedModel bundle at path: /tmp/tmp5u1w45ut\n",
      "2024-09-27 12:47:52.612441: I tensorflow/cc/saved_model/loader.cc:462] SavedModel load for tags { serve }; Status: success: OK. Took 22885 microseconds.\n"
     ]
    },
    {
     "name": "stdout",
     "output_type": "stream",
     "text": [
      "C header file has been saved as GeneratedHeaderFiles/SimpleMLP.h'\n"
     ]
    }
   ],
   "execution_count": 2
  },
  {
   "metadata": {},
   "cell_type": "code",
   "outputs": [],
   "execution_count": null,
   "source": "",
   "id": "27e34f5b2ac11bdf"
  }
 ],
 "metadata": {
  "kernelspec": {
   "display_name": "Python 3",
   "language": "python",
   "name": "python3"
  },
  "language_info": {
   "codemirror_mode": {
    "name": "ipython",
    "version": 2
   },
   "file_extension": ".py",
   "mimetype": "text/x-python",
   "name": "python",
   "nbconvert_exporter": "python",
   "pygments_lexer": "ipython2",
   "version": "2.7.6"
  }
 },
 "nbformat": 4,
 "nbformat_minor": 5
}
