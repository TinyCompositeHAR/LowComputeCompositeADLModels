{
 "cells": [
  {
   "cell_type": "code",
   "id": "initial_id",
   "metadata": {
    "collapsed": true,
    "ExecuteTime": {
     "end_time": "2024-09-27T05:02:12.061568Z",
     "start_time": "2024-09-27T04:59:37.815570Z"
    }
   },
   "source": [
    "import numpy as np\n",
    "import tensorflow as tf\n",
    "from sklearn.model_selection import train_test_split\n",
    "from sklearn.preprocessing import StandardScaler\n",
    "from sklearn.metrics import classification_report\n",
    "from tensorflow.keras.utils import to_categorical\n",
    "\n",
    "# Load and preprocess the dataset\n",
    "def load_and_preprocess_data():\n",
    "    # Load data\n",
    "    X_train = np.loadtxt(\"../../Datasets/CAPP Dataset/SubjectDependent50PercentOverlap/X_train.txt\")\n",
    "    y_train = np.loadtxt(\"../../Datasets/CAPP Dataset/SubjectDependent50PercentOverlap/y_train.txt\")\n",
    "    X_test = np.loadtxt(\"../../Datasets/CAPP Dataset/SubjectDependent50PercentOverlap/X_test.txt\")\n",
    "    y_test = np.loadtxt(\"../../Datasets/CAPP Dataset/SubjectDependent50PercentOverlap/y_test.txt\")\n",
    "\n",
    "    # Reshape data (assuming 100 time steps and 9 features)\n",
    "    X_train = X_train.reshape(X_train.shape[0], 100, 9)\n",
    "    X_test = X_test.reshape(X_test.shape[0], 100, 9)\n",
    "\n",
    "    # Normalize features\n",
    "    scaler = StandardScaler()\n",
    "    X_train_reshaped = X_train.reshape(-1, X_train.shape[-1])\n",
    "    X_test_reshaped = X_test.reshape(-1, X_test.shape[-1])\n",
    "    X_train_scaled = scaler.fit_transform(X_train_reshaped).reshape(X_train.shape)\n",
    "    X_test_scaled = scaler.transform(X_test_reshaped).reshape(X_test.shape)\n",
    "\n",
    "    # Find the actual number of unique classes\n",
    "    all_labels = np.unique(np.concatenate((y_train, y_test)))\n",
    "    num_classes = len(all_labels)\n",
    "    print(f\"Unique labels: {all_labels}\")\n",
    "    print(f\"Number of classes: {num_classes}\")\n",
    "\n",
    "    # Create a mapping from original labels to consecutive integers\n",
    "    label_map = {label: i for i, label in enumerate(all_labels)}\n",
    "\n",
    "    # Apply the mapping to y_train and y_test\n",
    "    y_train_mapped = np.array([label_map[label] for label in y_train])\n",
    "    y_test_mapped = np.array([label_map[label] for label in y_test])\n",
    "\n",
    "    # One-hot encode the mapped labels\n",
    "    y_train_onehot = to_categorical(y_train_mapped, num_classes=num_classes)\n",
    "    y_test_onehot = to_categorical(y_test_mapped, num_classes=num_classes)\n",
    "\n",
    "    print(f\"One-hot encoded label shape: {y_train_onehot.shape[1]}\")\n",
    "\n",
    "    return X_train_scaled, y_train_onehot, X_test_scaled, y_test_onehot, num_classes, label_map\n",
    "\n",
    "\n",
    "# Create the TFLite Micro compatible model\n",
    "def create_model(input_shape, num_classes):\n",
    "    model = tf.keras.Sequential([\n",
    "        tf.keras.layers.Input(shape=input_shape),\n",
    "        tf.keras.layers.Dense(128, activation='relu'),\n",
    "        tf.keras.layers.Dense(64, activation='relu'),\n",
    "        tf.keras.layers.Dense(32, activation='relu'),\n",
    "        tf.keras.layers.GlobalAveragePooling1D(),\n",
    "        tf.keras.layers.Dense(num_classes, activation='softmax')\n",
    "    ])\n",
    "    return model\n",
    "\n",
    "# Train the model\n",
    "def train_model(model, X_train, y_train, X_val, y_val, epochs=50, batch_size=32):\n",
    "    model.compile(optimizer='adam',\n",
    "                  loss='categorical_crossentropy',\n",
    "                  metrics=['accuracy'])\n",
    "\n",
    "    early_stopping = tf.keras.callbacks.EarlyStopping(monitor='val_loss', patience=10, restore_best_weights=True)\n",
    "\n",
    "    history = model.fit(X_train, y_train,\n",
    "                        validation_data=(X_val, y_val),\n",
    "                        epochs=epochs,\n",
    "                        batch_size=batch_size,\n",
    "                        callbacks=[early_stopping],\n",
    "                        verbose=1)\n",
    "    return history\n",
    "\n",
    "def evaluate_model(model, X_test, y_test):\n",
    "    loss, accuracy = model.evaluate(X_test, y_test, verbose=0)\n",
    "    print(f\"Test accuracy: {accuracy:.4f}\")\n",
    "\n",
    "    y_pred = model.predict(X_test)\n",
    "    y_pred_classes = np.argmax(y_pred, axis=1)\n",
    "    y_test_classes = np.argmax(y_test, axis=1)\n",
    "\n",
    "    # Convert back to original labels for the classification report\n",
    "    inv_label_map = {v: k for k, v in label_map.items()}\n",
    "    y_pred_original = np.array([inv_label_map[label] for label in y_pred_classes])\n",
    "    y_test_original = np.array([inv_label_map[label] for label in y_test_classes])\n",
    "\n",
    "    print(classification_report(y_test_original, y_pred_original, digits=5))\n",
    "\n",
    "# Convert to TFLite\n",
    "def convert_to_tflite(model, X_test):\n",
    "    converter = tf.lite.TFLiteConverter.from_keras_model(model)\n",
    "    converter.optimizations = [tf.lite.Optimize.DEFAULT]\n",
    "    converter.target_spec.supported_ops = [tf.lite.OpsSet.TFLITE_BUILTINS_INT8]\n",
    "    converter.inference_input_type = tf.int8\n",
    "    converter.inference_output_type = tf.int8\n",
    "\n",
    "    def representative_dataset_gen():\n",
    "        for input_value in tf.data.Dataset.from_tensor_slices(X_test).batch(1).take(100):\n",
    "            yield [input_value]\n",
    "\n",
    "    converter.representative_dataset = representative_dataset_gen\n",
    "    tflite_model = converter.convert()\n",
    "\n",
    "    with open('subject_dependent_onehot_tflite_model.tflite', 'wb') as f:\n",
    "        f.write(tflite_model)\n",
    "    print(\"TFLite model saved as 'subject_dependent_onehot_tflite_model.tflite'\")\n",
    "\n",
    "# Load and preprocess data\n",
    "X_train, y_train, X_test, y_test, num_classes, label_map = load_and_preprocess_data()\n",
    "print(\"num_classes: \", num_classes)\n",
    "\n",
    "# Split training data into train and validation sets\n",
    "X_train, X_val, y_train, y_val = train_test_split(X_train, y_train, test_size=0.2, random_state=42)\n",
    "\n",
    "# Create and train the model\n",
    "input_shape = X_train.shape[1:]\n",
    "CNN_MLP = create_model(input_shape, num_classes)\n",
    "history = train_model(CNN_MLP, X_train, y_train, X_val, y_val)\n",
    "\n",
    "# Evaluate the model\n",
    "evaluate_model(CNN_MLP, X_test, y_test)"
   ],
   "outputs": [
    {
     "name": "stderr",
     "output_type": "stream",
     "text": [
      "2024-09-27 10:59:38.010925: E external/local_xla/xla/stream_executor/cuda/cuda_fft.cc:485] Unable to register cuFFT factory: Attempting to register factory for plugin cuFFT when one has already been registered\n",
      "2024-09-27 10:59:38.022367: E external/local_xla/xla/stream_executor/cuda/cuda_dnn.cc:8454] Unable to register cuDNN factory: Attempting to register factory for plugin cuDNN when one has already been registered\n",
      "2024-09-27 10:59:38.025802: E external/local_xla/xla/stream_executor/cuda/cuda_blas.cc:1452] Unable to register cuBLAS factory: Attempting to register factory for plugin cuBLAS when one has already been registered\n",
      "2024-09-27 10:59:38.035686: I tensorflow/core/platform/cpu_feature_guard.cc:210] This TensorFlow binary is optimized to use available CPU instructions in performance-critical operations.\n",
      "To enable the following instructions: AVX2 FMA, in other operations, rebuild TensorFlow with the appropriate compiler flags.\n",
      "2024-09-27 10:59:38.530516: W tensorflow/compiler/tf2tensorrt/utils/py_utils.cc:38] TF-TRT Warning: Could not find TensorRT\n"
     ]
    },
    {
     "name": "stdout",
     "output_type": "stream",
     "text": [
      "Unique labels: [ 0.  1.  2.  3.  6.  7.  8.  9. 10. 11. 12. 13. 14. 19. 20. 21. 22. 23.\n",
      " 25. 26. 27.]\n",
      "Number of classes: 21\n",
      "One-hot encoded label shape: 21\n",
      "num_classes:  21\n"
     ]
    },
    {
     "name": "stderr",
     "output_type": "stream",
     "text": [
      "WARNING: All log messages before absl::InitializeLog() is called are written to STDERR\n",
      "I0000 00:00:1727413201.536228  166214 cuda_executor.cc:1015] successful NUMA node read from SysFS had negative value (-1), but there must be at least one NUMA node, so returning NUMA node zero. See more at https://github.com/torvalds/linux/blob/v6.0/Documentation/ABI/testing/sysfs-bus-pci#L344-L355\n",
      "I0000 00:00:1727413201.567606  166214 cuda_executor.cc:1015] successful NUMA node read from SysFS had negative value (-1), but there must be at least one NUMA node, so returning NUMA node zero. See more at https://github.com/torvalds/linux/blob/v6.0/Documentation/ABI/testing/sysfs-bus-pci#L344-L355\n",
      "I0000 00:00:1727413201.568886  166214 cuda_executor.cc:1015] successful NUMA node read from SysFS had negative value (-1), but there must be at least one NUMA node, so returning NUMA node zero. See more at https://github.com/torvalds/linux/blob/v6.0/Documentation/ABI/testing/sysfs-bus-pci#L344-L355\n",
      "I0000 00:00:1727413201.572162  166214 cuda_executor.cc:1015] successful NUMA node read from SysFS had negative value (-1), but there must be at least one NUMA node, so returning NUMA node zero. See more at https://github.com/torvalds/linux/blob/v6.0/Documentation/ABI/testing/sysfs-bus-pci#L344-L355\n",
      "I0000 00:00:1727413201.573230  166214 cuda_executor.cc:1015] successful NUMA node read from SysFS had negative value (-1), but there must be at least one NUMA node, so returning NUMA node zero. See more at https://github.com/torvalds/linux/blob/v6.0/Documentation/ABI/testing/sysfs-bus-pci#L344-L355\n",
      "I0000 00:00:1727413201.574276  166214 cuda_executor.cc:1015] successful NUMA node read from SysFS had negative value (-1), but there must be at least one NUMA node, so returning NUMA node zero. See more at https://github.com/torvalds/linux/blob/v6.0/Documentation/ABI/testing/sysfs-bus-pci#L344-L355\n",
      "I0000 00:00:1727413201.667875  166214 cuda_executor.cc:1015] successful NUMA node read from SysFS had negative value (-1), but there must be at least one NUMA node, so returning NUMA node zero. See more at https://github.com/torvalds/linux/blob/v6.0/Documentation/ABI/testing/sysfs-bus-pci#L344-L355\n",
      "I0000 00:00:1727413201.669008  166214 cuda_executor.cc:1015] successful NUMA node read from SysFS had negative value (-1), but there must be at least one NUMA node, so returning NUMA node zero. See more at https://github.com/torvalds/linux/blob/v6.0/Documentation/ABI/testing/sysfs-bus-pci#L344-L355\n",
      "I0000 00:00:1727413201.670067  166214 cuda_executor.cc:1015] successful NUMA node read from SysFS had negative value (-1), but there must be at least one NUMA node, so returning NUMA node zero. See more at https://github.com/torvalds/linux/blob/v6.0/Documentation/ABI/testing/sysfs-bus-pci#L344-L355\n",
      "2024-09-27 11:00:01.671150: I tensorflow/core/common_runtime/gpu/gpu_device.cc:2021] Created device /job:localhost/replica:0/task:0/device:GPU:0 with 5821 MB memory:  -> device: 0, name: NVIDIA GeForce RTX 3070, pci bus id: 0000:0e:00.0, compute capability: 8.6\n"
     ]
    },
    {
     "name": "stdout",
     "output_type": "stream",
     "text": [
      "Epoch 1/50\n"
     ]
    },
    {
     "name": "stderr",
     "output_type": "stream",
     "text": [
      "WARNING: All log messages before absl::InitializeLog() is called are written to STDERR\n",
      "I0000 00:00:1727413202.775967  166560 service.cc:146] XLA service 0x75b2940055f0 initialized for platform CUDA (this does not guarantee that XLA will be used). Devices:\n",
      "I0000 00:00:1727413202.776001  166560 service.cc:154]   StreamExecutor device (0): NVIDIA GeForce RTX 3070, Compute Capability 8.6\n",
      "2024-09-27 11:00:02.805333: I tensorflow/compiler/mlir/tensorflow/utils/dump_mlir_util.cc:268] disabling MLIR crash reproducer, set env var `MLIR_CRASH_REPRODUCER_DIRECTORY` to enable.\n",
      "2024-09-27 11:00:02.903046: I external/local_xla/xla/stream_executor/cuda/cuda_dnn.cc:531] Loaded cuDNN version 8907\n",
      "2024-09-27 11:00:04.049324: I external/local_xla/xla/stream_executor/cuda/cuda_asm_compiler.cc:393] ptxas warning : Registers are spilled to local memory in function 'gemm_fusion_dot_12', 24 bytes spill stores, 24 bytes spill loads\n",
      "\n",
      "2024-09-27 11:00:04.267227: I external/local_xla/xla/stream_executor/cuda/cuda_asm_compiler.cc:393] ptxas warning : Registers are spilled to local memory in function 'gemm_fusion_dot_12', 52 bytes spill stores, 52 bytes spill loads\n",
      "\n",
      "2024-09-27 11:00:04.281376: I external/local_xla/xla/stream_executor/cuda/cuda_asm_compiler.cc:393] ptxas warning : Registers are spilled to local memory in function 'gemm_fusion_dot_13', 52 bytes spill stores, 52 bytes spill loads\n",
      "\n"
     ]
    },
    {
     "name": "stdout",
     "output_type": "stream",
     "text": [
      "\u001B[1m 168/2390\u001B[0m \u001B[32m━\u001B[0m\u001B[37m━━━━━━━━━━━━━━━━━━━\u001B[0m \u001B[1m2s\u001B[0m 907us/step - accuracy: 0.1667 - loss: 2.7660"
     ]
    },
    {
     "name": "stderr",
     "output_type": "stream",
     "text": [
      "I0000 00:00:1727413204.962990  166560 device_compiler.h:188] Compiled cluster using XLA!  This line is logged at most once for the lifetime of the process.\n"
     ]
    },
    {
     "name": "stdout",
     "output_type": "stream",
     "text": [
      "\u001B[1m2322/2390\u001B[0m \u001B[32m━━━━━━━━━━━━━━━━━━━\u001B[0m\u001B[37m━\u001B[0m \u001B[1m0s\u001B[0m 650us/step - accuracy: 0.5240 - loss: 1.5446"
     ]
    },
    {
     "name": "stderr",
     "output_type": "stream",
     "text": [
      "2024-09-27 11:00:07.791332: I external/local_xla/xla/stream_executor/cuda/cuda_asm_compiler.cc:393] ptxas warning : Registers are spilled to local memory in function 'gemm_fusion_dot_12', 4 bytes spill stores, 4 bytes spill loads\n",
      "\n",
      "2024-09-27 11:00:07.908245: I external/local_xla/xla/stream_executor/cuda/cuda_asm_compiler.cc:393] ptxas warning : Registers are spilled to local memory in function 'gemm_fusion_dot_13', 4 bytes spill stores, 4 bytes spill loads\n",
      "\n"
     ]
    },
    {
     "name": "stdout",
     "output_type": "stream",
     "text": [
      "\u001B[1m2390/2390\u001B[0m \u001B[32m━━━━━━━━━━━━━━━━━━━━\u001B[0m\u001B[37m\u001B[0m \u001B[1m8s\u001B[0m 2ms/step - accuracy: 0.5276 - loss: 1.5321 - val_accuracy: 0.7514 - val_loss: 0.7661\n",
      "Epoch 2/50\n",
      "\u001B[1m2390/2390\u001B[0m \u001B[32m━━━━━━━━━━━━━━━━━━━━\u001B[0m\u001B[37m\u001B[0m \u001B[1m2s\u001B[0m 725us/step - accuracy: 0.7617 - loss: 0.7287 - val_accuracy: 0.7913 - val_loss: 0.6415\n",
      "Epoch 3/50\n",
      "\u001B[1m2390/2390\u001B[0m \u001B[32m━━━━━━━━━━━━━━━━━━━━\u001B[0m\u001B[37m\u001B[0m \u001B[1m2s\u001B[0m 795us/step - accuracy: 0.7999 - loss: 0.6046 - val_accuracy: 0.8192 - val_loss: 0.5458\n",
      "Epoch 4/50\n",
      "\u001B[1m2390/2390\u001B[0m \u001B[32m━━━━━━━━━━━━━━━━━━━━\u001B[0m\u001B[37m\u001B[0m \u001B[1m2s\u001B[0m 705us/step - accuracy: 0.8197 - loss: 0.5373 - val_accuracy: 0.8398 - val_loss: 0.4969\n",
      "Epoch 5/50\n",
      "\u001B[1m2390/2390\u001B[0m \u001B[32m━━━━━━━━━━━━━━━━━━━━\u001B[0m\u001B[37m\u001B[0m \u001B[1m2s\u001B[0m 751us/step - accuracy: 0.8347 - loss: 0.4964 - val_accuracy: 0.8483 - val_loss: 0.4674\n",
      "Epoch 6/50\n",
      "\u001B[1m2390/2390\u001B[0m \u001B[32m━━━━━━━━━━━━━━━━━━━━\u001B[0m\u001B[37m\u001B[0m \u001B[1m2s\u001B[0m 690us/step - accuracy: 0.8452 - loss: 0.4638 - val_accuracy: 0.8599 - val_loss: 0.4307\n",
      "Epoch 7/50\n",
      "\u001B[1m2390/2390\u001B[0m \u001B[32m━━━━━━━━━━━━━━━━━━━━\u001B[0m\u001B[37m\u001B[0m \u001B[1m2s\u001B[0m 730us/step - accuracy: 0.8536 - loss: 0.4344 - val_accuracy: 0.8644 - val_loss: 0.4147\n",
      "Epoch 8/50\n",
      "\u001B[1m2390/2390\u001B[0m \u001B[32m━━━━━━━━━━━━━━━━━━━━\u001B[0m\u001B[37m\u001B[0m \u001B[1m2s\u001B[0m 786us/step - accuracy: 0.8630 - loss: 0.4067 - val_accuracy: 0.8674 - val_loss: 0.4058\n",
      "Epoch 9/50\n",
      "\u001B[1m2390/2390\u001B[0m \u001B[32m━━━━━━━━━━━━━━━━━━━━\u001B[0m\u001B[37m\u001B[0m \u001B[1m2s\u001B[0m 921us/step - accuracy: 0.8711 - loss: 0.3875 - val_accuracy: 0.8659 - val_loss: 0.4070\n",
      "Epoch 10/50\n",
      "\u001B[1m2390/2390\u001B[0m \u001B[32m━━━━━━━━━━━━━━━━━━━━\u001B[0m\u001B[37m\u001B[0m \u001B[1m3s\u001B[0m 1ms/step - accuracy: 0.8769 - loss: 0.3722 - val_accuracy: 0.8806 - val_loss: 0.3628\n",
      "Epoch 11/50\n",
      "\u001B[1m2390/2390\u001B[0m \u001B[32m━━━━━━━━━━━━━━━━━━━━\u001B[0m\u001B[37m\u001B[0m \u001B[1m2s\u001B[0m 981us/step - accuracy: 0.8829 - loss: 0.3520 - val_accuracy: 0.8807 - val_loss: 0.3582\n",
      "Epoch 12/50\n",
      "\u001B[1m2390/2390\u001B[0m \u001B[32m━━━━━━━━━━━━━━━━━━━━\u001B[0m\u001B[37m\u001B[0m \u001B[1m2s\u001B[0m 969us/step - accuracy: 0.8888 - loss: 0.3360 - val_accuracy: 0.8883 - val_loss: 0.3437\n",
      "Epoch 13/50\n",
      "\u001B[1m2390/2390\u001B[0m \u001B[32m━━━━━━━━━━━━━━━━━━━━\u001B[0m\u001B[37m\u001B[0m \u001B[1m2s\u001B[0m 957us/step - accuracy: 0.8932 - loss: 0.3239 - val_accuracy: 0.8902 - val_loss: 0.3410\n",
      "Epoch 14/50\n",
      "\u001B[1m2390/2390\u001B[0m \u001B[32m━━━━━━━━━━━━━━━━━━━━\u001B[0m\u001B[37m\u001B[0m \u001B[1m2s\u001B[0m 936us/step - accuracy: 0.8945 - loss: 0.3179 - val_accuracy: 0.8945 - val_loss: 0.3292\n",
      "Epoch 15/50\n",
      "\u001B[1m2390/2390\u001B[0m \u001B[32m━━━━━━━━━━━━━━━━━━━━\u001B[0m\u001B[37m\u001B[0m \u001B[1m2s\u001B[0m 975us/step - accuracy: 0.8989 - loss: 0.3091 - val_accuracy: 0.9028 - val_loss: 0.3079\n",
      "Epoch 16/50\n",
      "\u001B[1m2390/2390\u001B[0m \u001B[32m━━━━━━━━━━━━━━━━━━━━\u001B[0m\u001B[37m\u001B[0m \u001B[1m2s\u001B[0m 1ms/step - accuracy: 0.9020 - loss: 0.2961 - val_accuracy: 0.9093 - val_loss: 0.2922\n",
      "Epoch 17/50\n",
      "\u001B[1m2390/2390\u001B[0m \u001B[32m━━━━━━━━━━━━━━━━━━━━\u001B[0m\u001B[37m\u001B[0m \u001B[1m3s\u001B[0m 1ms/step - accuracy: 0.9065 - loss: 0.2844 - val_accuracy: 0.9053 - val_loss: 0.2938\n",
      "Epoch 18/50\n",
      "\u001B[1m2390/2390\u001B[0m \u001B[32m━━━━━━━━━━━━━━━━━━━━\u001B[0m\u001B[37m\u001B[0m \u001B[1m3s\u001B[0m 1ms/step - accuracy: 0.9070 - loss: 0.2771 - val_accuracy: 0.9060 - val_loss: 0.2929\n",
      "Epoch 19/50\n",
      "\u001B[1m2390/2390\u001B[0m \u001B[32m━━━━━━━━━━━━━━━━━━━━\u001B[0m\u001B[37m\u001B[0m \u001B[1m3s\u001B[0m 1ms/step - accuracy: 0.9109 - loss: 0.2703 - val_accuracy: 0.9145 - val_loss: 0.2727\n",
      "Epoch 20/50\n",
      "\u001B[1m2390/2390\u001B[0m \u001B[32m━━━━━━━━━━━━━━━━━━━━\u001B[0m\u001B[37m\u001B[0m \u001B[1m2s\u001B[0m 931us/step - accuracy: 0.9153 - loss: 0.2611 - val_accuracy: 0.9050 - val_loss: 0.2935\n",
      "Epoch 21/50\n",
      "\u001B[1m2390/2390\u001B[0m \u001B[32m━━━━━━━━━━━━━━━━━━━━\u001B[0m\u001B[37m\u001B[0m \u001B[1m2s\u001B[0m 926us/step - accuracy: 0.9142 - loss: 0.2603 - val_accuracy: 0.9152 - val_loss: 0.2715\n",
      "Epoch 22/50\n",
      "\u001B[1m2390/2390\u001B[0m \u001B[32m━━━━━━━━━━━━━━━━━━━━\u001B[0m\u001B[37m\u001B[0m \u001B[1m2s\u001B[0m 1ms/step - accuracy: 0.9172 - loss: 0.2465 - val_accuracy: 0.9099 - val_loss: 0.2787\n",
      "Epoch 23/50\n",
      "\u001B[1m2390/2390\u001B[0m \u001B[32m━━━━━━━━━━━━━━━━━━━━\u001B[0m\u001B[37m\u001B[0m \u001B[1m3s\u001B[0m 1ms/step - accuracy: 0.9208 - loss: 0.2374 - val_accuracy: 0.9193 - val_loss: 0.2561\n",
      "Epoch 24/50\n",
      "\u001B[1m2390/2390\u001B[0m \u001B[32m━━━━━━━━━━━━━━━━━━━━\u001B[0m\u001B[37m\u001B[0m \u001B[1m3s\u001B[0m 1ms/step - accuracy: 0.9222 - loss: 0.2322 - val_accuracy: 0.9184 - val_loss: 0.2595\n",
      "Epoch 25/50\n",
      "\u001B[1m2390/2390\u001B[0m \u001B[32m━━━━━━━━━━━━━━━━━━━━\u001B[0m\u001B[37m\u001B[0m \u001B[1m3s\u001B[0m 1ms/step - accuracy: 0.9240 - loss: 0.2298 - val_accuracy: 0.9133 - val_loss: 0.2688\n",
      "Epoch 26/50\n",
      "\u001B[1m2390/2390\u001B[0m \u001B[32m━━━━━━━━━━━━━━━━━━━━\u001B[0m\u001B[37m\u001B[0m \u001B[1m3s\u001B[0m 1ms/step - accuracy: 0.9236 - loss: 0.2321 - val_accuracy: 0.9240 - val_loss: 0.2412\n",
      "Epoch 27/50\n",
      "\u001B[1m2390/2390\u001B[0m \u001B[32m━━━━━━━━━━━━━━━━━━━━\u001B[0m\u001B[37m\u001B[0m \u001B[1m3s\u001B[0m 1ms/step - accuracy: 0.9279 - loss: 0.2218 - val_accuracy: 0.9262 - val_loss: 0.2384\n",
      "Epoch 28/50\n",
      "\u001B[1m2390/2390\u001B[0m \u001B[32m━━━━━━━━━━━━━━━━━━━━\u001B[0m\u001B[37m\u001B[0m \u001B[1m2s\u001B[0m 981us/step - accuracy: 0.9268 - loss: 0.2171 - val_accuracy: 0.9179 - val_loss: 0.2535\n",
      "Epoch 29/50\n",
      "\u001B[1m2390/2390\u001B[0m \u001B[32m━━━━━━━━━━━━━━━━━━━━\u001B[0m\u001B[37m\u001B[0m \u001B[1m2s\u001B[0m 984us/step - accuracy: 0.9301 - loss: 0.2154 - val_accuracy: 0.9204 - val_loss: 0.2546\n",
      "Epoch 30/50\n",
      "\u001B[1m2390/2390\u001B[0m \u001B[32m━━━━━━━━━━━━━━━━━━━━\u001B[0m\u001B[37m\u001B[0m \u001B[1m2s\u001B[0m 922us/step - accuracy: 0.9288 - loss: 0.2129 - val_accuracy: 0.9188 - val_loss: 0.2513\n",
      "Epoch 31/50\n",
      "\u001B[1m2390/2390\u001B[0m \u001B[32m━━━━━━━━━━━━━━━━━━━━\u001B[0m\u001B[37m\u001B[0m \u001B[1m2s\u001B[0m 954us/step - accuracy: 0.9299 - loss: 0.2076 - val_accuracy: 0.9248 - val_loss: 0.2422\n",
      "Epoch 32/50\n",
      "\u001B[1m2390/2390\u001B[0m \u001B[32m━━━━━━━━━━━━━━━━━━━━\u001B[0m\u001B[37m\u001B[0m \u001B[1m2s\u001B[0m 948us/step - accuracy: 0.9331 - loss: 0.2046 - val_accuracy: 0.9205 - val_loss: 0.2504\n",
      "Epoch 33/50\n",
      "\u001B[1m2390/2390\u001B[0m \u001B[32m━━━━━━━━━━━━━━━━━━━━\u001B[0m\u001B[37m\u001B[0m \u001B[1m3s\u001B[0m 1ms/step - accuracy: 0.9354 - loss: 0.1989 - val_accuracy: 0.9271 - val_loss: 0.2330\n",
      "Epoch 34/50\n",
      "\u001B[1m2390/2390\u001B[0m \u001B[32m━━━━━━━━━━━━━━━━━━━━\u001B[0m\u001B[37m\u001B[0m \u001B[1m2s\u001B[0m 1ms/step - accuracy: 0.9319 - loss: 0.2036 - val_accuracy: 0.9208 - val_loss: 0.2497\n",
      "Epoch 35/50\n",
      "\u001B[1m2390/2390\u001B[0m \u001B[32m━━━━━━━━━━━━━━━━━━━━\u001B[0m\u001B[37m\u001B[0m \u001B[1m3s\u001B[0m 1ms/step - accuracy: 0.9372 - loss: 0.1958 - val_accuracy: 0.9267 - val_loss: 0.2310\n",
      "Epoch 36/50\n",
      "\u001B[1m2390/2390\u001B[0m \u001B[32m━━━━━━━━━━━━━━━━━━━━\u001B[0m\u001B[37m\u001B[0m \u001B[1m2s\u001B[0m 982us/step - accuracy: 0.9370 - loss: 0.1905 - val_accuracy: 0.9234 - val_loss: 0.2441\n",
      "Epoch 37/50\n",
      "\u001B[1m2390/2390\u001B[0m \u001B[32m━━━━━━━━━━━━━━━━━━━━\u001B[0m\u001B[37m\u001B[0m \u001B[1m2s\u001B[0m 973us/step - accuracy: 0.9386 - loss: 0.1877 - val_accuracy: 0.9284 - val_loss: 0.2300\n",
      "Epoch 38/50\n",
      "\u001B[1m2390/2390\u001B[0m \u001B[32m━━━━━━━━━━━━━━━━━━━━\u001B[0m\u001B[37m\u001B[0m \u001B[1m3s\u001B[0m 1ms/step - accuracy: 0.9380 - loss: 0.1841 - val_accuracy: 0.9259 - val_loss: 0.2360\n",
      "Epoch 39/50\n",
      "\u001B[1m2390/2390\u001B[0m \u001B[32m━━━━━━━━━━━━━━━━━━━━\u001B[0m\u001B[37m\u001B[0m \u001B[1m3s\u001B[0m 1ms/step - accuracy: 0.9385 - loss: 0.1848 - val_accuracy: 0.9322 - val_loss: 0.2174\n",
      "Epoch 40/50\n",
      "\u001B[1m2390/2390\u001B[0m \u001B[32m━━━━━━━━━━━━━━━━━━━━\u001B[0m\u001B[37m\u001B[0m \u001B[1m2s\u001B[0m 960us/step - accuracy: 0.9390 - loss: 0.1842 - val_accuracy: 0.9307 - val_loss: 0.2248\n",
      "Epoch 41/50\n",
      "\u001B[1m2390/2390\u001B[0m \u001B[32m━━━━━━━━━━━━━━━━━━━━\u001B[0m\u001B[37m\u001B[0m \u001B[1m2s\u001B[0m 1ms/step - accuracy: 0.9406 - loss: 0.1778 - val_accuracy: 0.9286 - val_loss: 0.2207\n",
      "Epoch 42/50\n",
      "\u001B[1m2390/2390\u001B[0m \u001B[32m━━━━━━━━━━━━━━━━━━━━\u001B[0m\u001B[37m\u001B[0m \u001B[1m3s\u001B[0m 1ms/step - accuracy: 0.9416 - loss: 0.1760 - val_accuracy: 0.9281 - val_loss: 0.2233\n",
      "Epoch 43/50\n",
      "\u001B[1m2390/2390\u001B[0m \u001B[32m━━━━━━━━━━━━━━━━━━━━\u001B[0m\u001B[37m\u001B[0m \u001B[1m3s\u001B[0m 1ms/step - accuracy: 0.9426 - loss: 0.1724 - val_accuracy: 0.9351 - val_loss: 0.2075\n",
      "Epoch 44/50\n",
      "\u001B[1m2390/2390\u001B[0m \u001B[32m━━━━━━━━━━━━━━━━━━━━\u001B[0m\u001B[37m\u001B[0m \u001B[1m3s\u001B[0m 1ms/step - accuracy: 0.9439 - loss: 0.1667 - val_accuracy: 0.9365 - val_loss: 0.2042\n",
      "Epoch 45/50\n",
      "\u001B[1m2390/2390\u001B[0m \u001B[32m━━━━━━━━━━━━━━━━━━━━\u001B[0m\u001B[37m\u001B[0m \u001B[1m3s\u001B[0m 1ms/step - accuracy: 0.9438 - loss: 0.1693 - val_accuracy: 0.9322 - val_loss: 0.2246\n",
      "Epoch 46/50\n",
      "\u001B[1m2390/2390\u001B[0m \u001B[32m━━━━━━━━━━━━━━━━━━━━\u001B[0m\u001B[37m\u001B[0m \u001B[1m2s\u001B[0m 961us/step - accuracy: 0.9433 - loss: 0.1712 - val_accuracy: 0.9353 - val_loss: 0.2082\n",
      "Epoch 47/50\n",
      "\u001B[1m2390/2390\u001B[0m \u001B[32m━━━━━━━━━━━━━━━━━━━━\u001B[0m\u001B[37m\u001B[0m \u001B[1m2s\u001B[0m 980us/step - accuracy: 0.9424 - loss: 0.1704 - val_accuracy: 0.9338 - val_loss: 0.2087\n",
      "Epoch 48/50\n",
      "\u001B[1m2390/2390\u001B[0m \u001B[32m━━━━━━━━━━━━━━━━━━━━\u001B[0m\u001B[37m\u001B[0m \u001B[1m2s\u001B[0m 928us/step - accuracy: 0.9459 - loss: 0.1596 - val_accuracy: 0.9389 - val_loss: 0.2033\n",
      "Epoch 49/50\n",
      "\u001B[1m2390/2390\u001B[0m \u001B[32m━━━━━━━━━━━━━━━━━━━━\u001B[0m\u001B[37m\u001B[0m \u001B[1m2s\u001B[0m 960us/step - accuracy: 0.9458 - loss: 0.1632 - val_accuracy: 0.9355 - val_loss: 0.2069\n",
      "Epoch 50/50\n",
      "\u001B[1m2390/2390\u001B[0m \u001B[32m━━━━━━━━━━━━━━━━━━━━\u001B[0m\u001B[37m\u001B[0m \u001B[1m2s\u001B[0m 956us/step - accuracy: 0.9459 - loss: 0.1623 - val_accuracy: 0.9376 - val_loss: 0.2015\n",
      "Test accuracy: 0.9360\n",
      "\u001B[1m748/748\u001B[0m \u001B[32m━━━━━━━━━━━━━━━━━━━━\u001B[0m\u001B[37m\u001B[0m \u001B[1m1s\u001B[0m 921us/step\n",
      "              precision    recall  f1-score   support\n",
      "\n",
      "         0.0    0.89669   0.94926   0.92223      1143\n",
      "         1.0    0.99527   0.98685   0.99104      1065\n",
      "         2.0    0.98493   0.92485   0.95394      1131\n",
      "         3.0    0.98863   0.97114   0.97980      1074\n",
      "         6.0    0.96432   0.89103   0.92623      1092\n",
      "         7.0    0.91196   0.93714   0.92438      1050\n",
      "         8.0    0.96007   0.95315   0.95660      1110\n",
      "         9.0    0.93569   0.96517   0.95020      1206\n",
      "        10.0    0.94100   0.92285   0.93184      1348\n",
      "        11.0    0.95781   0.85979   0.90616      1241\n",
      "        12.0    0.92274   0.89523   0.90878      1174\n",
      "        13.0    0.92043   0.98357   0.95096      1035\n",
      "        14.0    0.97742   0.96561   0.97148      1076\n",
      "        19.0    0.89220   0.95603   0.92301      1160\n",
      "        20.0    0.89865   0.87091   0.88456      1069\n",
      "        21.0    0.84750   0.84679   0.84715      1201\n",
      "        22.0    0.98197   0.99725   0.98955      1092\n",
      "        23.0    0.95226   0.93503   0.94357      1216\n",
      "        25.0    0.93864   0.95794   0.94820      1070\n",
      "        26.0    0.91243   0.94189   0.92693      1239\n",
      "        27.0    0.90492   0.96789   0.93534      1121\n",
      "\n",
      "    accuracy                        0.93602     23913\n",
      "   macro avg    0.93741   0.93711   0.93676     23913\n",
      "weighted avg    0.93686   0.93602   0.93593     23913\n",
      "\n"
     ]
    }
   ],
   "execution_count": 1
  },
  {
   "metadata": {
    "ExecuteTime": {
     "end_time": "2024-09-27T05:02:12.858350Z",
     "start_time": "2024-09-27T05:02:12.068484Z"
    }
   },
   "cell_type": "code",
   "source": [
    "# Convert the model to TensorFlow Lite format\n",
    "converter = tf.lite.TFLiteConverter.from_keras_model(CNN_MLP)\n",
    "tflite_model = converter.convert()\n",
    "\n",
    "# Save the TFLite model\n",
    "with open(\"GeneratedTFLiteFilesAndOGModels/conv_mlp_model.tflite\", \"wb\") as f:\n",
    "    f.write(tflite_model)\n",
    "\n",
    "print(\"TensorFlow Lite model has been saved as 'conv_mlp_model.tflite'\")\n",
    "\n",
    "# Optional: Save the Keras model\n",
    "CNN_MLP.save(\"GeneratedTFLiteFilesAndOGModels/conv_mlp_model.h5\")\n",
    "print(\"Keras model has been saved as 'conv_mlp_model.h5'\")\n",
    "\n",
    "try:\n",
    "    from everywhereml.code_generators.tensorflow import convert_model\n",
    "\n",
    "    c_header = convert_model(CNN_MLP, X_test, y_test, model_name='conv_mlp_model')\n",
    "\n",
    "    with open(\"GeneratedHeaderFiles/conv_mlp_model.h\", \"w\") as file:\n",
    "        file.write(c_header)\n",
    "\n",
    "    print(\"C header file has been saved as GeneratedHeaderFiles/conv_mlp_model.h'\")\n",
    "except ImportError:\n",
    "    print(\"everywhereml library not found. Skipping C header file generation.\")"
   ],
   "id": "d83523fd0fd25fa2",
   "outputs": [
    {
     "name": "stdout",
     "output_type": "stream",
     "text": [
      "INFO:tensorflow:Assets written to: /tmp/tmp_1erx5oz/assets\n"
     ]
    },
    {
     "name": "stderr",
     "output_type": "stream",
     "text": [
      "INFO:tensorflow:Assets written to: /tmp/tmp_1erx5oz/assets\n"
     ]
    },
    {
     "name": "stdout",
     "output_type": "stream",
     "text": [
      "Saved artifact at '/tmp/tmp_1erx5oz'. The following endpoints are available:\n",
      "\n",
      "* Endpoint 'serve'\n",
      "  args_0 (POSITIONAL_ONLY): TensorSpec(shape=(None, 100, 9), dtype=tf.float32, name='keras_tensor')\n",
      "Output Type:\n",
      "  TensorSpec(shape=(None, 21), dtype=tf.float32, name=None)\n",
      "Captures:\n",
      "  129417562350416: TensorSpec(shape=(), dtype=tf.resource, name=None)\n",
      "  129417562354112: TensorSpec(shape=(), dtype=tf.resource, name=None)\n",
      "  129417562356576: TensorSpec(shape=(), dtype=tf.resource, name=None)\n",
      "  129417557921984: TensorSpec(shape=(), dtype=tf.resource, name=None)\n",
      "  129417557918464: TensorSpec(shape=(), dtype=tf.resource, name=None)\n",
      "  129417557923568: TensorSpec(shape=(), dtype=tf.resource, name=None)\n",
      "  129417557921104: TensorSpec(shape=(), dtype=tf.resource, name=None)\n",
      "  129417557925504: TensorSpec(shape=(), dtype=tf.resource, name=None)\n"
     ]
    },
    {
     "name": "stderr",
     "output_type": "stream",
     "text": [
      "W0000 00:00:1727413332.259346  166214 tf_tfl_flatbuffer_helpers.cc:392] Ignored output_format.\n",
      "W0000 00:00:1727413332.259358  166214 tf_tfl_flatbuffer_helpers.cc:395] Ignored drop_control_dependency.\n",
      "2024-09-27 11:02:12.259551: I tensorflow/cc/saved_model/reader.cc:83] Reading SavedModel from: /tmp/tmp_1erx5oz\n",
      "2024-09-27 11:02:12.259840: I tensorflow/cc/saved_model/reader.cc:52] Reading meta graph with tags { serve }\n",
      "2024-09-27 11:02:12.259847: I tensorflow/cc/saved_model/reader.cc:147] Reading SavedModel debug info (if present) from: /tmp/tmp_1erx5oz\n",
      "2024-09-27 11:02:12.262307: I tensorflow/compiler/mlir/mlir_graph_optimization_pass.cc:388] MLIR V1 optimization pass is not enabled\n",
      "2024-09-27 11:02:12.262772: I tensorflow/cc/saved_model/loader.cc:236] Restoring SavedModel bundle.\n",
      "2024-09-27 11:02:12.277317: I tensorflow/cc/saved_model/loader.cc:220] Running initialization op on SavedModel bundle at path: /tmp/tmp_1erx5oz\n",
      "2024-09-27 11:02:12.281903: I tensorflow/cc/saved_model/loader.cc:462] SavedModel load for tags { serve }; Status: success: OK. Took 22354 microseconds.\n",
      "WARNING:absl:You are saving your model as an HDF5 file via `model.save()` or `keras.saving.save_model(model)`. This file format is considered legacy. We recommend using instead the native Keras format, e.g. `model.save('my_model.keras')` or `keras.saving.save_model(model, 'my_model.keras')`. \n"
     ]
    },
    {
     "name": "stdout",
     "output_type": "stream",
     "text": [
      "TensorFlow Lite model has been saved as 'conv_mlp_model.tflite'\n",
      "Keras model has been saved as 'conv_mlp_model.h5'\n",
      "INFO:tensorflow:Assets written to: /tmp/tmp_96awx5k/assets\n"
     ]
    },
    {
     "name": "stderr",
     "output_type": "stream",
     "text": [
      "INFO:tensorflow:Assets written to: /tmp/tmp_96awx5k/assets\n"
     ]
    },
    {
     "name": "stdout",
     "output_type": "stream",
     "text": [
      "Saved artifact at '/tmp/tmp_96awx5k'. The following endpoints are available:\n",
      "\n",
      "* Endpoint 'serve'\n",
      "  args_0 (POSITIONAL_ONLY): TensorSpec(shape=(None, 100, 9), dtype=tf.float32, name='keras_tensor')\n",
      "Output Type:\n",
      "  TensorSpec(shape=(None, 21), dtype=tf.float32, name=None)\n",
      "Captures:\n",
      "  129417562350416: TensorSpec(shape=(), dtype=tf.resource, name=None)\n",
      "  129417562354112: TensorSpec(shape=(), dtype=tf.resource, name=None)\n",
      "  129417562356576: TensorSpec(shape=(), dtype=tf.resource, name=None)\n",
      "  129417557921984: TensorSpec(shape=(), dtype=tf.resource, name=None)\n",
      "  129417557918464: TensorSpec(shape=(), dtype=tf.resource, name=None)\n",
      "  129417557923568: TensorSpec(shape=(), dtype=tf.resource, name=None)\n",
      "  129417557921104: TensorSpec(shape=(), dtype=tf.resource, name=None)\n",
      "  129417557925504: TensorSpec(shape=(), dtype=tf.resource, name=None)\n"
     ]
    },
    {
     "name": "stderr",
     "output_type": "stream",
     "text": [
      "W0000 00:00:1727413332.511557  166214 tf_tfl_flatbuffer_helpers.cc:392] Ignored output_format.\n",
      "W0000 00:00:1727413332.511567  166214 tf_tfl_flatbuffer_helpers.cc:395] Ignored drop_control_dependency.\n",
      "2024-09-27 11:02:12.511671: I tensorflow/cc/saved_model/reader.cc:83] Reading SavedModel from: /tmp/tmp_96awx5k\n",
      "2024-09-27 11:02:12.511959: I tensorflow/cc/saved_model/reader.cc:52] Reading meta graph with tags { serve }\n",
      "2024-09-27 11:02:12.511967: I tensorflow/cc/saved_model/reader.cc:147] Reading SavedModel debug info (if present) from: /tmp/tmp_96awx5k\n",
      "2024-09-27 11:02:12.514338: I tensorflow/cc/saved_model/loader.cc:236] Restoring SavedModel bundle.\n",
      "2024-09-27 11:02:12.528897: I tensorflow/cc/saved_model/loader.cc:220] Running initialization op on SavedModel bundle at path: /tmp/tmp_96awx5k\n",
      "2024-09-27 11:02:12.533512: I tensorflow/cc/saved_model/loader.cc:462] SavedModel load for tags { serve }; Status: success: OK. Took 21843 microseconds.\n"
     ]
    },
    {
     "name": "stdout",
     "output_type": "stream",
     "text": [
      "C header file has been saved as GeneratedHeaderFiles/conv_mlp_model.h'\n"
     ]
    }
   ],
   "execution_count": 2
  },
  {
   "metadata": {},
   "cell_type": "code",
   "outputs": [],
   "execution_count": null,
   "source": "",
   "id": "40b2f10c7f72ff66"
  }
 ],
 "metadata": {
  "kernelspec": {
   "display_name": "Python 3",
   "language": "python",
   "name": "python3"
  },
  "language_info": {
   "codemirror_mode": {
    "name": "ipython",
    "version": 2
   },
   "file_extension": ".py",
   "mimetype": "text/x-python",
   "name": "python",
   "nbconvert_exporter": "python",
   "pygments_lexer": "ipython2",
   "version": "2.7.6"
  }
 },
 "nbformat": 4,
 "nbformat_minor": 5
}
