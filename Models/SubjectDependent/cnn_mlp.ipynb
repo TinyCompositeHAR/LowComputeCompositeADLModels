{
 "cells": [
  {
   "cell_type": "code",
   "id": "initial_id",
   "metadata": {
    "collapsed": true,
    "ExecuteTime": {
     "end_time": "2024-09-27T06:01:30.601548Z",
     "start_time": "2024-09-27T05:59:25.100095Z"
    }
   },
   "source": [
    "import numpy as np\n",
    "import tensorflow as tf\n",
    "from sklearn.model_selection import train_test_split\n",
    "from sklearn.preprocessing import StandardScaler\n",
    "from sklearn.metrics import classification_report\n",
    "from tensorflow.keras.utils import to_categorical\n",
    "\n",
    "# Load and preprocess the dataset\n",
    "def load_and_preprocess_data():\n",
    "    # Load data\n",
    "    X_train = np.loadtxt(\"../../Datasets/CAPP Dataset/SubjectDependent50PercentOverlap/X_train.txt\")\n",
    "    y_train = np.loadtxt(\"../../Datasets/CAPP Dataset/SubjectDependent50PercentOverlap/y_train.txt\")\n",
    "    X_test = np.loadtxt(\"../../Datasets/CAPP Dataset/SubjectDependent50PercentOverlap/X_test.txt\")\n",
    "    y_test = np.loadtxt(\"../../Datasets/CAPP Dataset/SubjectDependent50PercentOverlap/y_test.txt\")\n",
    "\n",
    "    # Reshape data (assuming 100 time steps and 9 features)\n",
    "    X_train = X_train.reshape(X_train.shape[0], 100, 9)\n",
    "    X_test = X_test.reshape(X_test.shape[0], 100, 9)\n",
    "\n",
    "    # Normalize features\n",
    "    scaler = StandardScaler()\n",
    "    X_train_reshaped = X_train.reshape(-1, X_train.shape[-1])\n",
    "    X_test_reshaped = X_test.reshape(-1, X_test.shape[-1])\n",
    "    X_train_scaled = scaler.fit_transform(X_train_reshaped).reshape(X_train.shape)\n",
    "    X_test_scaled = scaler.transform(X_test_reshaped).reshape(X_test.shape)\n",
    "\n",
    "    # Find the actual number of unique classes\n",
    "    all_labels = np.unique(np.concatenate((y_train, y_test)))\n",
    "    num_classes = len(all_labels)\n",
    "    print(f\"Unique labels: {all_labels}\")\n",
    "    print(f\"Number of classes: {num_classes}\")\n",
    "\n",
    "    # Create a mapping from original labels to consecutive integers\n",
    "    label_map = {label: i for i, label in enumerate(all_labels)}\n",
    "\n",
    "    # Apply the mapping to y_train and y_test\n",
    "    y_train_mapped = np.array([label_map[label] for label in y_train])\n",
    "    y_test_mapped = np.array([label_map[label] for label in y_test])\n",
    "\n",
    "    # One-hot encode the mapped labels\n",
    "    y_train_onehot = to_categorical(y_train_mapped, num_classes=num_classes)\n",
    "    y_test_onehot = to_categorical(y_test_mapped, num_classes=num_classes)\n",
    "\n",
    "    print(f\"One-hot encoded label shape: {y_train_onehot.shape[1]}\")\n",
    "\n",
    "    return X_train_scaled, y_train_onehot, X_test_scaled, y_test_onehot, num_classes, label_map\n",
    "\n",
    "\n",
    "# Create the TFLite Micro compatible model\n",
    "def create_model(input_shape, num_classes):\n",
    "    model = tf.keras.Sequential([\n",
    "        tf.keras.layers.Input(shape=input_shape),\n",
    "        tf.keras.layers.Dense(128, activation='relu'),\n",
    "        tf.keras.layers.Dense(64, activation='relu'),\n",
    "        tf.keras.layers.Dense(32, activation='relu'),\n",
    "        tf.keras.layers.GlobalAveragePooling1D(),\n",
    "        tf.keras.layers.Dense(num_classes, activation='softmax')\n",
    "    ])\n",
    "    return model\n",
    "\n",
    "# Train the model\n",
    "def train_model(model, X_train, y_train, X_val, y_val, epochs=50, batch_size=32):\n",
    "    model.compile(optimizer='adam',\n",
    "                  loss='categorical_crossentropy',\n",
    "                  metrics=['accuracy'])\n",
    "\n",
    "    early_stopping = tf.keras.callbacks.EarlyStopping(monitor='val_loss', patience=10, restore_best_weights=True)\n",
    "\n",
    "    history = model.fit(X_train, y_train,\n",
    "                        validation_data=(X_val, y_val),\n",
    "                        epochs=epochs,\n",
    "                        batch_size=batch_size,\n",
    "                        callbacks=[early_stopping],\n",
    "                        verbose=1)\n",
    "    return history\n",
    "\n",
    "def evaluate_model(model, X_test, y_test):\n",
    "    loss, accuracy = model.evaluate(X_test, y_test, verbose=0)\n",
    "    print(f\"Test accuracy: {accuracy:.4f}\")\n",
    "\n",
    "    y_pred = model.predict(X_test)\n",
    "    y_pred_classes = np.argmax(y_pred, axis=1)\n",
    "    y_test_classes = np.argmax(y_test, axis=1)\n",
    "\n",
    "    # Convert back to original labels for the classification report\n",
    "    inv_label_map = {v: k for k, v in label_map.items()}\n",
    "    y_pred_original = np.array([inv_label_map[label] for label in y_pred_classes])\n",
    "    y_test_original = np.array([inv_label_map[label] for label in y_test_classes])\n",
    "\n",
    "    print(classification_report(y_test_original, y_pred_original, digits=5))\n",
    "\n",
    "# Convert to TFLite\n",
    "def convert_to_tflite(model, X_test):\n",
    "    converter = tf.lite.TFLiteConverter.from_keras_model(model)\n",
    "    converter.optimizations = [tf.lite.Optimize.DEFAULT]\n",
    "    converter.target_spec.supported_ops = [tf.lite.OpsSet.TFLITE_BUILTINS_INT8]\n",
    "    converter.inference_input_type = tf.int8\n",
    "    converter.inference_output_type = tf.int8\n",
    "\n",
    "    def representative_dataset_gen():\n",
    "        for input_value in tf.data.Dataset.from_tensor_slices(X_test).batch(1).take(100):\n",
    "            yield [input_value]\n",
    "\n",
    "    converter.representative_dataset = representative_dataset_gen\n",
    "    tflite_model = converter.convert()\n",
    "\n",
    "    with open('subject_dependent_onehot_tflite_model.tflite', 'wb') as f:\n",
    "        f.write(tflite_model)\n",
    "    print(\"TFLite model saved as 'subject_dependent_onehot_tflite_model.tflite'\")\n",
    "\n",
    "# Load and preprocess data\n",
    "X_train, y_train, X_test, y_test, num_classes, label_map = load_and_preprocess_data()\n",
    "print(\"num_classes: \", num_classes)\n",
    "\n",
    "# Split training data into train and validation sets\n",
    "X_train, X_val, y_train, y_val = train_test_split(X_train, y_train, test_size=0.2, random_state=42)\n",
    "\n",
    "# Create and train the model\n",
    "input_shape = X_train.shape[1:]\n",
    "CNN_MLP = create_model(input_shape, num_classes)\n",
    "history = train_model(CNN_MLP, X_train, y_train, X_val, y_val)\n",
    "\n",
    "# Evaluate the model\n",
    "evaluate_model(CNN_MLP, X_test, y_test)\n"
   ],
   "outputs": [
    {
     "name": "stderr",
     "output_type": "stream",
     "text": [
      "2024-09-27 11:59:25.289699: E external/local_xla/xla/stream_executor/cuda/cuda_fft.cc:485] Unable to register cuFFT factory: Attempting to register factory for plugin cuFFT when one has already been registered\n",
      "2024-09-27 11:59:25.300497: E external/local_xla/xla/stream_executor/cuda/cuda_dnn.cc:8454] Unable to register cuDNN factory: Attempting to register factory for plugin cuDNN when one has already been registered\n",
      "2024-09-27 11:59:25.303746: E external/local_xla/xla/stream_executor/cuda/cuda_blas.cc:1452] Unable to register cuBLAS factory: Attempting to register factory for plugin cuBLAS when one has already been registered\n",
      "2024-09-27 11:59:25.312584: I tensorflow/core/platform/cpu_feature_guard.cc:210] This TensorFlow binary is optimized to use available CPU instructions in performance-critical operations.\n",
      "To enable the following instructions: AVX2 FMA, in other operations, rebuild TensorFlow with the appropriate compiler flags.\n",
      "2024-09-27 11:59:25.813125: W tensorflow/compiler/tf2tensorrt/utils/py_utils.cc:38] TF-TRT Warning: Could not find TensorRT\n"
     ]
    },
    {
     "name": "stdout",
     "output_type": "stream",
     "text": [
      "Unique labels: [ 0.  1.  2.  3.  6.  7.  8.  9. 10. 11. 12. 13. 14. 19. 20. 21. 22. 23.\n",
      " 25. 26. 27.]\n",
      "Number of classes: 21\n",
      "One-hot encoded label shape: 21\n",
      "num_classes:  21\n"
     ]
    },
    {
     "name": "stderr",
     "output_type": "stream",
     "text": [
      "WARNING: All log messages before absl::InitializeLog() is called are written to STDERR\n",
      "I0000 00:00:1727416788.873022  212741 cuda_executor.cc:1015] successful NUMA node read from SysFS had negative value (-1), but there must be at least one NUMA node, so returning NUMA node zero. See more at https://github.com/torvalds/linux/blob/v6.0/Documentation/ABI/testing/sysfs-bus-pci#L344-L355\n",
      "I0000 00:00:1727416788.907511  212741 cuda_executor.cc:1015] successful NUMA node read from SysFS had negative value (-1), but there must be at least one NUMA node, so returning NUMA node zero. See more at https://github.com/torvalds/linux/blob/v6.0/Documentation/ABI/testing/sysfs-bus-pci#L344-L355\n",
      "I0000 00:00:1727416788.910396  212741 cuda_executor.cc:1015] successful NUMA node read from SysFS had negative value (-1), but there must be at least one NUMA node, so returning NUMA node zero. See more at https://github.com/torvalds/linux/blob/v6.0/Documentation/ABI/testing/sysfs-bus-pci#L344-L355\n",
      "I0000 00:00:1727416788.913902  212741 cuda_executor.cc:1015] successful NUMA node read from SysFS had negative value (-1), but there must be at least one NUMA node, so returning NUMA node zero. See more at https://github.com/torvalds/linux/blob/v6.0/Documentation/ABI/testing/sysfs-bus-pci#L344-L355\n",
      "I0000 00:00:1727416788.916038  212741 cuda_executor.cc:1015] successful NUMA node read from SysFS had negative value (-1), but there must be at least one NUMA node, so returning NUMA node zero. See more at https://github.com/torvalds/linux/blob/v6.0/Documentation/ABI/testing/sysfs-bus-pci#L344-L355\n",
      "I0000 00:00:1727416788.918393  212741 cuda_executor.cc:1015] successful NUMA node read from SysFS had negative value (-1), but there must be at least one NUMA node, so returning NUMA node zero. See more at https://github.com/torvalds/linux/blob/v6.0/Documentation/ABI/testing/sysfs-bus-pci#L344-L355\n",
      "I0000 00:00:1727416789.016485  212741 cuda_executor.cc:1015] successful NUMA node read from SysFS had negative value (-1), but there must be at least one NUMA node, so returning NUMA node zero. See more at https://github.com/torvalds/linux/blob/v6.0/Documentation/ABI/testing/sysfs-bus-pci#L344-L355\n",
      "I0000 00:00:1727416789.017620  212741 cuda_executor.cc:1015] successful NUMA node read from SysFS had negative value (-1), but there must be at least one NUMA node, so returning NUMA node zero. See more at https://github.com/torvalds/linux/blob/v6.0/Documentation/ABI/testing/sysfs-bus-pci#L344-L355\n",
      "I0000 00:00:1727416789.018671  212741 cuda_executor.cc:1015] successful NUMA node read from SysFS had negative value (-1), but there must be at least one NUMA node, so returning NUMA node zero. See more at https://github.com/torvalds/linux/blob/v6.0/Documentation/ABI/testing/sysfs-bus-pci#L344-L355\n",
      "2024-09-27 11:59:49.019695: I tensorflow/core/common_runtime/gpu/gpu_device.cc:2021] Created device /job:localhost/replica:0/task:0/device:GPU:0 with 5774 MB memory:  -> device: 0, name: NVIDIA GeForce RTX 3070, pci bus id: 0000:0e:00.0, compute capability: 8.6\n"
     ]
    },
    {
     "name": "stdout",
     "output_type": "stream",
     "text": [
      "Epoch 1/50\n"
     ]
    },
    {
     "name": "stderr",
     "output_type": "stream",
     "text": [
      "WARNING: All log messages before absl::InitializeLog() is called are written to STDERR\n",
      "I0000 00:00:1727416790.170603  213079 service.cc:146] XLA service 0x72a8b80053d0 initialized for platform CUDA (this does not guarantee that XLA will be used). Devices:\n",
      "I0000 00:00:1727416790.170631  213079 service.cc:154]   StreamExecutor device (0): NVIDIA GeForce RTX 3070, Compute Capability 8.6\n",
      "2024-09-27 11:59:50.200155: I tensorflow/compiler/mlir/tensorflow/utils/dump_mlir_util.cc:268] disabling MLIR crash reproducer, set env var `MLIR_CRASH_REPRODUCER_DIRECTORY` to enable.\n",
      "2024-09-27 11:59:50.295968: I external/local_xla/xla/stream_executor/cuda/cuda_dnn.cc:531] Loaded cuDNN version 8907\n",
      "2024-09-27 11:59:51.465450: I external/local_xla/xla/stream_executor/cuda/cuda_asm_compiler.cc:393] ptxas warning : Registers are spilled to local memory in function 'gemm_fusion_dot_12', 52 bytes spill stores, 52 bytes spill loads\n",
      "\n",
      "2024-09-27 11:59:51.554429: I external/local_xla/xla/stream_executor/cuda/cuda_asm_compiler.cc:393] ptxas warning : Registers are spilled to local memory in function 'gemm_fusion_dot_12', 24 bytes spill stores, 24 bytes spill loads\n",
      "\n",
      "2024-09-27 11:59:51.714310: I external/local_xla/xla/stream_executor/cuda/cuda_asm_compiler.cc:393] ptxas warning : Registers are spilled to local memory in function 'gemm_fusion_dot_13', 52 bytes spill stores, 52 bytes spill loads\n",
      "\n"
     ]
    },
    {
     "name": "stdout",
     "output_type": "stream",
     "text": [
      "\u001B[1m 151/2390\u001B[0m \u001B[32m━\u001B[0m\u001B[37m━━━━━━━━━━━━━━━━━━━\u001B[0m \u001B[1m2s\u001B[0m 1ms/step - accuracy: 0.1527 - loss: 2.7587"
     ]
    },
    {
     "name": "stderr",
     "output_type": "stream",
     "text": [
      "I0000 00:00:1727416792.405861  213079 device_compiler.h:188] Compiled cluster using XLA!  This line is logged at most once for the lifetime of the process.\n"
     ]
    },
    {
     "name": "stdout",
     "output_type": "stream",
     "text": [
      "\u001B[1m2355/2390\u001B[0m \u001B[32m━━━━━━━━━━━━━━━━━━━\u001B[0m\u001B[37m━\u001B[0m \u001B[1m0s\u001B[0m 835us/step - accuracy: 0.5234 - loss: 1.5238"
     ]
    },
    {
     "name": "stderr",
     "output_type": "stream",
     "text": [
      "2024-09-27 11:59:55.347113: I external/local_xla/xla/stream_executor/cuda/cuda_asm_compiler.cc:393] ptxas warning : Registers are spilled to local memory in function 'gemm_fusion_dot_12', 4 bytes spill stores, 4 bytes spill loads\n",
      "\n",
      "2024-09-27 11:59:55.555538: I external/local_xla/xla/stream_executor/cuda/cuda_asm_compiler.cc:393] ptxas warning : Registers are spilled to local memory in function 'gemm_fusion_dot_13', 4 bytes spill stores, 4 bytes spill loads\n",
      "\n"
     ]
    },
    {
     "name": "stdout",
     "output_type": "stream",
     "text": [
      "\u001B[1m2390/2390\u001B[0m \u001B[32m━━━━━━━━━━━━━━━━━━━━\u001B[0m\u001B[37m\u001B[0m \u001B[1m9s\u001B[0m 3ms/step - accuracy: 0.5253 - loss: 1.5174 - val_accuracy: 0.7494 - val_loss: 0.7633\n",
      "Epoch 2/50\n",
      "\u001B[1m2390/2390\u001B[0m \u001B[32m━━━━━━━━━━━━━━━━━━━━\u001B[0m\u001B[37m\u001B[0m \u001B[1m2s\u001B[0m 681us/step - accuracy: 0.7616 - loss: 0.7293 - val_accuracy: 0.7901 - val_loss: 0.6479\n",
      "Epoch 3/50\n",
      "\u001B[1m2390/2390\u001B[0m \u001B[32m━━━━━━━━━━━━━━━━━━━━\u001B[0m\u001B[37m\u001B[0m \u001B[1m2s\u001B[0m 800us/step - accuracy: 0.7962 - loss: 0.6170 - val_accuracy: 0.8093 - val_loss: 0.5699\n",
      "Epoch 4/50\n",
      "\u001B[1m2390/2390\u001B[0m \u001B[32m━━━━━━━━━━━━━━━━━━━━\u001B[0m\u001B[37m\u001B[0m \u001B[1m2s\u001B[0m 834us/step - accuracy: 0.8215 - loss: 0.5374 - val_accuracy: 0.8321 - val_loss: 0.5064\n",
      "Epoch 5/50\n",
      "\u001B[1m2390/2390\u001B[0m \u001B[32m━━━━━━━━━━━━━━━━━━━━\u001B[0m\u001B[37m\u001B[0m \u001B[1m3s\u001B[0m 1ms/step - accuracy: 0.8389 - loss: 0.4825 - val_accuracy: 0.8509 - val_loss: 0.4626\n",
      "Epoch 6/50\n",
      "\u001B[1m2390/2390\u001B[0m \u001B[32m━━━━━━━━━━━━━━━━━━━━\u001B[0m\u001B[37m\u001B[0m \u001B[1m2s\u001B[0m 963us/step - accuracy: 0.8488 - loss: 0.4485 - val_accuracy: 0.8568 - val_loss: 0.4299\n",
      "Epoch 7/50\n",
      "\u001B[1m2390/2390\u001B[0m \u001B[32m━━━━━━━━━━━━━━━━━━━━\u001B[0m\u001B[37m\u001B[0m \u001B[1m2s\u001B[0m 1ms/step - accuracy: 0.8626 - loss: 0.4152 - val_accuracy: 0.8698 - val_loss: 0.3952\n",
      "Epoch 8/50\n",
      "\u001B[1m2390/2390\u001B[0m \u001B[32m━━━━━━━━━━━━━━━━━━━━\u001B[0m\u001B[37m\u001B[0m \u001B[1m2s\u001B[0m 682us/step - accuracy: 0.8704 - loss: 0.3938 - val_accuracy: 0.8749 - val_loss: 0.3839\n",
      "Epoch 9/50\n",
      "\u001B[1m2390/2390\u001B[0m \u001B[32m━━━━━━━━━━━━━━━━━━━━\u001B[0m\u001B[37m\u001B[0m \u001B[1m2s\u001B[0m 747us/step - accuracy: 0.8764 - loss: 0.3767 - val_accuracy: 0.8816 - val_loss: 0.3646\n",
      "Epoch 10/50\n",
      "\u001B[1m2390/2390\u001B[0m \u001B[32m━━━━━━━━━━━━━━━━━━━━\u001B[0m\u001B[37m\u001B[0m \u001B[1m2s\u001B[0m 704us/step - accuracy: 0.8835 - loss: 0.3532 - val_accuracy: 0.8897 - val_loss: 0.3475\n",
      "Epoch 11/50\n",
      "\u001B[1m2390/2390\u001B[0m \u001B[32m━━━━━━━━━━━━━━━━━━━━\u001B[0m\u001B[37m\u001B[0m \u001B[1m2s\u001B[0m 717us/step - accuracy: 0.8905 - loss: 0.3267 - val_accuracy: 0.8905 - val_loss: 0.3411\n",
      "Epoch 12/50\n",
      "\u001B[1m2390/2390\u001B[0m \u001B[32m━━━━━━━━━━━━━━━━━━━━\u001B[0m\u001B[37m\u001B[0m \u001B[1m2s\u001B[0m 751us/step - accuracy: 0.8931 - loss: 0.3238 - val_accuracy: 0.8799 - val_loss: 0.3598\n",
      "Epoch 13/50\n",
      "\u001B[1m2390/2390\u001B[0m \u001B[32m━━━━━━━━━━━━━━━━━━━━\u001B[0m\u001B[37m\u001B[0m \u001B[1m2s\u001B[0m 699us/step - accuracy: 0.8986 - loss: 0.3104 - val_accuracy: 0.9023 - val_loss: 0.3105\n",
      "Epoch 14/50\n",
      "\u001B[1m2390/2390\u001B[0m \u001B[32m━━━━━━━━━━━━━━━━━━━━\u001B[0m\u001B[37m\u001B[0m \u001B[1m2s\u001B[0m 672us/step - accuracy: 0.8999 - loss: 0.3045 - val_accuracy: 0.9049 - val_loss: 0.2998\n",
      "Epoch 15/50\n",
      "\u001B[1m2390/2390\u001B[0m \u001B[32m━━━━━━━━━━━━━━━━━━━━\u001B[0m\u001B[37m\u001B[0m \u001B[1m2s\u001B[0m 750us/step - accuracy: 0.9052 - loss: 0.2900 - val_accuracy: 0.9029 - val_loss: 0.3068\n",
      "Epoch 16/50\n",
      "\u001B[1m2390/2390\u001B[0m \u001B[32m━━━━━━━━━━━━━━━━━━━━\u001B[0m\u001B[37m\u001B[0m \u001B[1m2s\u001B[0m 761us/step - accuracy: 0.9077 - loss: 0.2843 - val_accuracy: 0.8920 - val_loss: 0.3297\n",
      "Epoch 17/50\n",
      "\u001B[1m2390/2390\u001B[0m \u001B[32m━━━━━━━━━━━━━━━━━━━━\u001B[0m\u001B[37m\u001B[0m \u001B[1m2s\u001B[0m 737us/step - accuracy: 0.9087 - loss: 0.2741 - val_accuracy: 0.9029 - val_loss: 0.2988\n",
      "Epoch 18/50\n",
      "\u001B[1m2390/2390\u001B[0m \u001B[32m━━━━━━━━━━━━━━━━━━━━\u001B[0m\u001B[37m\u001B[0m \u001B[1m2s\u001B[0m 911us/step - accuracy: 0.9106 - loss: 0.2692 - val_accuracy: 0.9140 - val_loss: 0.2779\n",
      "Epoch 19/50\n",
      "\u001B[1m2390/2390\u001B[0m \u001B[32m━━━━━━━━━━━━━━━━━━━━\u001B[0m\u001B[37m\u001B[0m \u001B[1m3s\u001B[0m 1ms/step - accuracy: 0.9142 - loss: 0.2575 - val_accuracy: 0.9130 - val_loss: 0.2765\n",
      "Epoch 20/50\n",
      "\u001B[1m2390/2390\u001B[0m \u001B[32m━━━━━━━━━━━━━━━━━━━━\u001B[0m\u001B[37m\u001B[0m \u001B[1m2s\u001B[0m 762us/step - accuracy: 0.9175 - loss: 0.2495 - val_accuracy: 0.9137 - val_loss: 0.2744\n",
      "Epoch 21/50\n",
      "\u001B[1m2390/2390\u001B[0m \u001B[32m━━━━━━━━━━━━━━━━━━━━\u001B[0m\u001B[37m\u001B[0m \u001B[1m2s\u001B[0m 843us/step - accuracy: 0.9180 - loss: 0.2505 - val_accuracy: 0.9120 - val_loss: 0.2806\n",
      "Epoch 22/50\n",
      "\u001B[1m2390/2390\u001B[0m \u001B[32m━━━━━━━━━━━━━━━━━━━━\u001B[0m\u001B[37m\u001B[0m \u001B[1m2s\u001B[0m 752us/step - accuracy: 0.9216 - loss: 0.2386 - val_accuracy: 0.9108 - val_loss: 0.2771\n",
      "Epoch 23/50\n",
      "\u001B[1m2390/2390\u001B[0m \u001B[32m━━━━━━━━━━━━━━━━━━━━\u001B[0m\u001B[37m\u001B[0m \u001B[1m2s\u001B[0m 746us/step - accuracy: 0.9216 - loss: 0.2395 - val_accuracy: 0.9216 - val_loss: 0.2536\n",
      "Epoch 24/50\n",
      "\u001B[1m2390/2390\u001B[0m \u001B[32m━━━━━━━━━━━━━━━━━━━━\u001B[0m\u001B[37m\u001B[0m \u001B[1m2s\u001B[0m 952us/step - accuracy: 0.9236 - loss: 0.2330 - val_accuracy: 0.9123 - val_loss: 0.2743\n",
      "Epoch 25/50\n",
      "\u001B[1m2390/2390\u001B[0m \u001B[32m━━━━━━━━━━━━━━━━━━━━\u001B[0m\u001B[37m\u001B[0m \u001B[1m2s\u001B[0m 780us/step - accuracy: 0.9248 - loss: 0.2264 - val_accuracy: 0.9202 - val_loss: 0.2582\n",
      "Epoch 26/50\n",
      "\u001B[1m2390/2390\u001B[0m \u001B[32m━━━━━━━━━━━━━━━━━━━━\u001B[0m\u001B[37m\u001B[0m \u001B[1m2s\u001B[0m 711us/step - accuracy: 0.9252 - loss: 0.2240 - val_accuracy: 0.9267 - val_loss: 0.2405\n",
      "Epoch 27/50\n",
      "\u001B[1m2390/2390\u001B[0m \u001B[32m━━━━━━━━━━━━━━━━━━━━\u001B[0m\u001B[37m\u001B[0m \u001B[1m2s\u001B[0m 663us/step - accuracy: 0.9273 - loss: 0.2171 - val_accuracy: 0.9169 - val_loss: 0.2617\n",
      "Epoch 28/50\n",
      "\u001B[1m2390/2390\u001B[0m \u001B[32m━━━━━━━━━━━━━━━━━━━━\u001B[0m\u001B[37m\u001B[0m \u001B[1m2s\u001B[0m 688us/step - accuracy: 0.9289 - loss: 0.2125 - val_accuracy: 0.9270 - val_loss: 0.2371\n",
      "Epoch 29/50\n",
      "\u001B[1m2390/2390\u001B[0m \u001B[32m━━━━━━━━━━━━━━━━━━━━\u001B[0m\u001B[37m\u001B[0m \u001B[1m2s\u001B[0m 671us/step - accuracy: 0.9302 - loss: 0.2086 - val_accuracy: 0.9237 - val_loss: 0.2498\n",
      "Epoch 30/50\n",
      "\u001B[1m2390/2390\u001B[0m \u001B[32m━━━━━━━━━━━━━━━━━━━━\u001B[0m\u001B[37m\u001B[0m \u001B[1m2s\u001B[0m 751us/step - accuracy: 0.9305 - loss: 0.2092 - val_accuracy: 0.9238 - val_loss: 0.2488\n",
      "Epoch 31/50\n",
      "\u001B[1m2390/2390\u001B[0m \u001B[32m━━━━━━━━━━━━━━━━━━━━\u001B[0m\u001B[37m\u001B[0m \u001B[1m2s\u001B[0m 646us/step - accuracy: 0.9302 - loss: 0.2102 - val_accuracy: 0.9179 - val_loss: 0.2616\n",
      "Epoch 32/50\n",
      "\u001B[1m2390/2390\u001B[0m \u001B[32m━━━━━━━━━━━━━━━━━━━━\u001B[0m\u001B[37m\u001B[0m \u001B[1m2s\u001B[0m 657us/step - accuracy: 0.9353 - loss: 0.1961 - val_accuracy: 0.9233 - val_loss: 0.2512\n",
      "Epoch 33/50\n",
      "\u001B[1m2390/2390\u001B[0m \u001B[32m━━━━━━━━━━━━━━━━━━━━\u001B[0m\u001B[37m\u001B[0m \u001B[1m2s\u001B[0m 657us/step - accuracy: 0.9339 - loss: 0.1996 - val_accuracy: 0.9257 - val_loss: 0.2385\n",
      "Epoch 34/50\n",
      "\u001B[1m2390/2390\u001B[0m \u001B[32m━━━━━━━━━━━━━━━━━━━━\u001B[0m\u001B[37m\u001B[0m \u001B[1m2s\u001B[0m 689us/step - accuracy: 0.9349 - loss: 0.1935 - val_accuracy: 0.9245 - val_loss: 0.2387\n",
      "Epoch 35/50\n",
      "\u001B[1m2390/2390\u001B[0m \u001B[32m━━━━━━━━━━━━━━━━━━━━\u001B[0m\u001B[37m\u001B[0m \u001B[1m2s\u001B[0m 703us/step - accuracy: 0.9367 - loss: 0.1908 - val_accuracy: 0.9351 - val_loss: 0.2159\n",
      "Epoch 36/50\n",
      "\u001B[1m2390/2390\u001B[0m \u001B[32m━━━━━━━━━━━━━━━━━━━━\u001B[0m\u001B[37m\u001B[0m \u001B[1m2s\u001B[0m 689us/step - accuracy: 0.9366 - loss: 0.1907 - val_accuracy: 0.9263 - val_loss: 0.2336\n",
      "Epoch 37/50\n",
      "\u001B[1m2390/2390\u001B[0m \u001B[32m━━━━━━━━━━━━━━━━━━━━\u001B[0m\u001B[37m\u001B[0m \u001B[1m2s\u001B[0m 676us/step - accuracy: 0.9372 - loss: 0.1870 - val_accuracy: 0.9284 - val_loss: 0.2319\n",
      "Epoch 38/50\n",
      "\u001B[1m2390/2390\u001B[0m \u001B[32m━━━━━━━━━━━━━━━━━━━━\u001B[0m\u001B[37m\u001B[0m \u001B[1m2s\u001B[0m 782us/step - accuracy: 0.9380 - loss: 0.1895 - val_accuracy: 0.9319 - val_loss: 0.2240\n",
      "Epoch 39/50\n",
      "\u001B[1m2390/2390\u001B[0m \u001B[32m━━━━━━━━━━━━━━━━━━━━\u001B[0m\u001B[37m\u001B[0m \u001B[1m2s\u001B[0m 769us/step - accuracy: 0.9409 - loss: 0.1802 - val_accuracy: 0.9323 - val_loss: 0.2180\n",
      "Epoch 40/50\n",
      "\u001B[1m2390/2390\u001B[0m \u001B[32m━━━━━━━━━━━━━━━━━━━━\u001B[0m\u001B[37m\u001B[0m \u001B[1m2s\u001B[0m 677us/step - accuracy: 0.9384 - loss: 0.1812 - val_accuracy: 0.9223 - val_loss: 0.2463\n",
      "Epoch 41/50\n",
      "\u001B[1m2390/2390\u001B[0m \u001B[32m━━━━━━━━━━━━━━━━━━━━\u001B[0m\u001B[37m\u001B[0m \u001B[1m2s\u001B[0m 711us/step - accuracy: 0.9414 - loss: 0.1773 - val_accuracy: 0.9317 - val_loss: 0.2258\n",
      "Epoch 42/50\n",
      "\u001B[1m2390/2390\u001B[0m \u001B[32m━━━━━━━━━━━━━━━━━━━━\u001B[0m\u001B[37m\u001B[0m \u001B[1m2s\u001B[0m 766us/step - accuracy: 0.9426 - loss: 0.1745 - val_accuracy: 0.9312 - val_loss: 0.2209\n",
      "Epoch 43/50\n",
      "\u001B[1m2390/2390\u001B[0m \u001B[32m━━━━━━━━━━━━━━━━━━━━\u001B[0m\u001B[37m\u001B[0m \u001B[1m2s\u001B[0m 771us/step - accuracy: 0.9440 - loss: 0.1695 - val_accuracy: 0.9321 - val_loss: 0.2231\n",
      "Epoch 44/50\n",
      "\u001B[1m2390/2390\u001B[0m \u001B[32m━━━━━━━━━━━━━━━━━━━━\u001B[0m\u001B[37m\u001B[0m \u001B[1m2s\u001B[0m 667us/step - accuracy: 0.9432 - loss: 0.1679 - val_accuracy: 0.9316 - val_loss: 0.2184\n",
      "Epoch 45/50\n",
      "\u001B[1m2390/2390\u001B[0m \u001B[32m━━━━━━━━━━━━━━━━━━━━\u001B[0m\u001B[37m\u001B[0m \u001B[1m2s\u001B[0m 646us/step - accuracy: 0.9424 - loss: 0.1713 - val_accuracy: 0.9351 - val_loss: 0.2114\n",
      "Epoch 46/50\n",
      "\u001B[1m2390/2390\u001B[0m \u001B[32m━━━━━━━━━━━━━━━━━━━━\u001B[0m\u001B[37m\u001B[0m \u001B[1m2s\u001B[0m 738us/step - accuracy: 0.9448 - loss: 0.1691 - val_accuracy: 0.9364 - val_loss: 0.2100\n",
      "Epoch 47/50\n",
      "\u001B[1m2390/2390\u001B[0m \u001B[32m━━━━━━━━━━━━━━━━━━━━\u001B[0m\u001B[37m\u001B[0m \u001B[1m2s\u001B[0m 764us/step - accuracy: 0.9456 - loss: 0.1619 - val_accuracy: 0.9330 - val_loss: 0.2206\n",
      "Epoch 48/50\n",
      "\u001B[1m2390/2390\u001B[0m \u001B[32m━━━━━━━━━━━━━━━━━━━━\u001B[0m\u001B[37m\u001B[0m \u001B[1m2s\u001B[0m 748us/step - accuracy: 0.9445 - loss: 0.1669 - val_accuracy: 0.9378 - val_loss: 0.2059\n",
      "Epoch 49/50\n",
      "\u001B[1m2390/2390\u001B[0m \u001B[32m━━━━━━━━━━━━━━━━━━━━\u001B[0m\u001B[37m\u001B[0m \u001B[1m2s\u001B[0m 748us/step - accuracy: 0.9464 - loss: 0.1610 - val_accuracy: 0.9367 - val_loss: 0.2064\n",
      "Epoch 50/50\n",
      "\u001B[1m2390/2390\u001B[0m \u001B[32m━━━━━━━━━━━━━━━━━━━━\u001B[0m\u001B[37m\u001B[0m \u001B[1m2s\u001B[0m 722us/step - accuracy: 0.9473 - loss: 0.1603 - val_accuracy: 0.9322 - val_loss: 0.2257\n",
      "Test accuracy: 0.9355\n",
      "\u001B[1m748/748\u001B[0m \u001B[32m━━━━━━━━━━━━━━━━━━━━\u001B[0m\u001B[37m\u001B[0m \u001B[1m1s\u001B[0m 828us/step\n",
      "              precision    recall  f1-score   support\n",
      "\n",
      "         0.0    0.95514   0.89414   0.92363      1143\n",
      "         1.0    0.98590   0.98498   0.98544      1065\n",
      "         2.0    0.95374   0.94783   0.95078      1131\n",
      "         3.0    0.98229   0.98138   0.98184      1074\n",
      "         6.0    0.94492   0.91117   0.92774      1092\n",
      "         7.0    0.95464   0.92190   0.93798      1050\n",
      "         8.0    0.95913   0.95135   0.95522      1110\n",
      "         9.0    0.95784   0.94196   0.94983      1206\n",
      "        10.0    0.95205   0.91320   0.93222      1348\n",
      "        11.0    0.93802   0.90250   0.91992      1241\n",
      "        12.0    0.90917   0.91227   0.91071      1174\n",
      "        13.0    0.94554   0.97295   0.95905      1035\n",
      "        14.0    0.96904   0.96004   0.96452      1076\n",
      "        19.0    0.91940   0.94397   0.93152      1160\n",
      "        20.0    0.81679   0.94668   0.87695      1069\n",
      "        21.0    0.85506   0.83014   0.84242      1201\n",
      "        22.0    0.99264   0.98810   0.99036      1092\n",
      "        23.0    0.97305   0.89062   0.93001      1216\n",
      "        25.0    0.92335   0.95701   0.93988      1070\n",
      "        26.0    0.88772   0.95722   0.92117      1239\n",
      "        27.0    0.90680   0.96343   0.93426      1121\n",
      "\n",
      "    accuracy                        0.93547     23913\n",
      "   macro avg    0.93725   0.93680   0.93645     23913\n",
      "weighted avg    0.93688   0.93547   0.93560     23913\n",
      "\n"
     ]
    }
   ],
   "execution_count": 1
  },
  {
   "metadata": {
    "ExecuteTime": {
     "end_time": "2024-09-27T06:02:32.578835Z",
     "start_time": "2024-09-27T06:02:31.897510Z"
    }
   },
   "cell_type": "code",
   "source": [
    "# Convert the model to TensorFlow Lite format\n",
    "converter = tf.lite.TFLiteConverter.from_keras_model(CNN_MLP)\n",
    "tflite_model = converter.convert()\n",
    "\n",
    "# Save the TFLite model\n",
    "with open(\"GeneratedTFLiteFilesAndOGModels/conv_mlp_model.tflite\", \"wb\") as f:\n",
    "    f.write(tflite_model)\n",
    "\n",
    "print(\"TensorFlow Lite model has been saved as 'conv_mlp_model.tflite'\")\n",
    "\n",
    "# Optional: Save the Keras model\n",
    "CNN_MLP.save(\"GeneratedTFLiteFilesAndOGModels/conv_mlp_model.h5\")\n",
    "print(\"Keras model has been saved as 'conv_mlp_model.h5'\")\n",
    "\n",
    "try:\n",
    "    from everywhereml.code_generators.tensorflow import convert_model\n",
    "\n",
    "    c_header = convert_model(CNN_MLP, X_test, y_test, model_name='conv_mlp_model')\n",
    "\n",
    "    with open(\"GeneratedHeaderFiles/conv_mlp_model.h\", \"w\") as file:\n",
    "        file.write(c_header)\n",
    "\n",
    "    print(\"C header file has been saved as GeneratedHeaderFiles/conv_mlp_model.h'\")\n",
    "except ImportError:\n",
    "    print(\"everywhereml library not found. Skipping C header file generation.\")"
   ],
   "id": "d83523fd0fd25fa2",
   "outputs": [
    {
     "name": "stdout",
     "output_type": "stream",
     "text": [
      "INFO:tensorflow:Assets written to: /tmp/tmp3zvpot_6/assets\n"
     ]
    },
    {
     "name": "stderr",
     "output_type": "stream",
     "text": [
      "INFO:tensorflow:Assets written to: /tmp/tmp3zvpot_6/assets\n"
     ]
    },
    {
     "name": "stdout",
     "output_type": "stream",
     "text": [
      "Saved artifact at '/tmp/tmp3zvpot_6'. The following endpoints are available:\n",
      "\n",
      "* Endpoint 'serve'\n",
      "  args_0 (POSITIONAL_ONLY): TensorSpec(shape=(None, 100, 9), dtype=tf.float32, name='keras_tensor')\n",
      "Output Type:\n",
      "  TensorSpec(shape=(None, 21), dtype=tf.float32, name=None)\n",
      "Captures:\n",
      "  126077390594896: TensorSpec(shape=(), dtype=tf.resource, name=None)\n",
      "  126077390598592: TensorSpec(shape=(), dtype=tf.resource, name=None)\n",
      "  126077390601056: TensorSpec(shape=(), dtype=tf.resource, name=None)\n",
      "  126077386150080: TensorSpec(shape=(), dtype=tf.resource, name=None)\n",
      "  126077386149376: TensorSpec(shape=(), dtype=tf.resource, name=None)\n",
      "  126077386151664: TensorSpec(shape=(), dtype=tf.resource, name=None)\n",
      "  126077386149728: TensorSpec(shape=(), dtype=tf.resource, name=None)\n",
      "  126077386153600: TensorSpec(shape=(), dtype=tf.resource, name=None)\n"
     ]
    },
    {
     "name": "stderr",
     "output_type": "stream",
     "text": [
      "W0000 00:00:1727416952.079192  212741 tf_tfl_flatbuffer_helpers.cc:392] Ignored output_format.\n",
      "W0000 00:00:1727416952.079202  212741 tf_tfl_flatbuffer_helpers.cc:395] Ignored drop_control_dependency.\n",
      "2024-09-27 12:02:32.079310: I tensorflow/cc/saved_model/reader.cc:83] Reading SavedModel from: /tmp/tmp3zvpot_6\n",
      "2024-09-27 12:02:32.079603: I tensorflow/cc/saved_model/reader.cc:52] Reading meta graph with tags { serve }\n",
      "2024-09-27 12:02:32.079611: I tensorflow/cc/saved_model/reader.cc:147] Reading SavedModel debug info (if present) from: /tmp/tmp3zvpot_6\n",
      "2024-09-27 12:02:32.082100: I tensorflow/cc/saved_model/loader.cc:236] Restoring SavedModel bundle.\n",
      "2024-09-27 12:02:32.097646: I tensorflow/cc/saved_model/loader.cc:220] Running initialization op on SavedModel bundle at path: /tmp/tmp3zvpot_6\n",
      "2024-09-27 12:02:32.102423: I tensorflow/cc/saved_model/loader.cc:462] SavedModel load for tags { serve }; Status: success: OK. Took 23115 microseconds.\n",
      "WARNING:absl:You are saving your model as an HDF5 file via `model.save()` or `keras.saving.save_model(model)`. This file format is considered legacy. We recommend using instead the native Keras format, e.g. `model.save('my_model.keras')` or `keras.saving.save_model(model, 'my_model.keras')`. \n"
     ]
    },
    {
     "name": "stdout",
     "output_type": "stream",
     "text": [
      "TensorFlow Lite model has been saved as 'conv_mlp_model.tflite'\n",
      "Keras model has been saved as 'conv_mlp_model.h5'\n",
      "INFO:tensorflow:Assets written to: /tmp/tmpucrgzuik/assets\n"
     ]
    },
    {
     "name": "stderr",
     "output_type": "stream",
     "text": [
      "INFO:tensorflow:Assets written to: /tmp/tmpucrgzuik/assets\n"
     ]
    },
    {
     "name": "stdout",
     "output_type": "stream",
     "text": [
      "Saved artifact at '/tmp/tmpucrgzuik'. The following endpoints are available:\n",
      "\n",
      "* Endpoint 'serve'\n",
      "  args_0 (POSITIONAL_ONLY): TensorSpec(shape=(None, 100, 9), dtype=tf.float32, name='keras_tensor')\n",
      "Output Type:\n",
      "  TensorSpec(shape=(None, 21), dtype=tf.float32, name=None)\n",
      "Captures:\n",
      "  126077390594896: TensorSpec(shape=(), dtype=tf.resource, name=None)\n",
      "  126077390598592: TensorSpec(shape=(), dtype=tf.resource, name=None)\n",
      "  126077390601056: TensorSpec(shape=(), dtype=tf.resource, name=None)\n",
      "  126077386150080: TensorSpec(shape=(), dtype=tf.resource, name=None)\n",
      "  126077386149376: TensorSpec(shape=(), dtype=tf.resource, name=None)\n",
      "  126077386151664: TensorSpec(shape=(), dtype=tf.resource, name=None)\n",
      "  126077386149728: TensorSpec(shape=(), dtype=tf.resource, name=None)\n",
      "  126077386153600: TensorSpec(shape=(), dtype=tf.resource, name=None)\n"
     ]
    },
    {
     "name": "stderr",
     "output_type": "stream",
     "text": [
      "W0000 00:00:1727416952.314021  212741 tf_tfl_flatbuffer_helpers.cc:392] Ignored output_format.\n",
      "W0000 00:00:1727416952.314031  212741 tf_tfl_flatbuffer_helpers.cc:395] Ignored drop_control_dependency.\n",
      "2024-09-27 12:02:32.314146: I tensorflow/cc/saved_model/reader.cc:83] Reading SavedModel from: /tmp/tmpucrgzuik\n",
      "2024-09-27 12:02:32.314445: I tensorflow/cc/saved_model/reader.cc:52] Reading meta graph with tags { serve }\n",
      "2024-09-27 12:02:32.314454: I tensorflow/cc/saved_model/reader.cc:147] Reading SavedModel debug info (if present) from: /tmp/tmpucrgzuik\n",
      "2024-09-27 12:02:32.316996: I tensorflow/cc/saved_model/loader.cc:236] Restoring SavedModel bundle.\n",
      "2024-09-27 12:02:32.332572: I tensorflow/cc/saved_model/loader.cc:220] Running initialization op on SavedModel bundle at path: /tmp/tmpucrgzuik\n",
      "2024-09-27 12:02:32.337355: I tensorflow/cc/saved_model/loader.cc:462] SavedModel load for tags { serve }; Status: success: OK. Took 23211 microseconds.\n"
     ]
    },
    {
     "name": "stdout",
     "output_type": "stream",
     "text": [
      "C header file has been saved as GeneratedHeaderFiles/conv_mlp_model.h'\n"
     ]
    }
   ],
   "execution_count": 3
  },
  {
   "metadata": {
    "ExecuteTime": {
     "end_time": "2024-09-27T05:10:13.962777Z",
     "start_time": "2024-09-27T05:10:13.961094Z"
    }
   },
   "cell_type": "code",
   "source": "",
   "id": "40b2f10c7f72ff66",
   "outputs": [],
   "execution_count": null
  }
 ],
 "metadata": {
  "kernelspec": {
   "display_name": "Python 3",
   "language": "python",
   "name": "python3"
  },
  "language_info": {
   "codemirror_mode": {
    "name": "ipython",
    "version": 2
   },
   "file_extension": ".py",
   "mimetype": "text/x-python",
   "name": "python",
   "nbconvert_exporter": "python",
   "pygments_lexer": "ipython2",
   "version": "2.7.6"
  }
 },
 "nbformat": 4,
 "nbformat_minor": 5
}
